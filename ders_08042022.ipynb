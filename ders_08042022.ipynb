{
  "nbformat": 4,
  "nbformat_minor": 0,
  "metadata": {
    "colab": {
      "name": "ders_08042022.ipynb",
      "provenance": [],
      "collapsed_sections": []
    },
    "kernelspec": {
      "name": "python3",
      "display_name": "Python 3"
    },
    "language_info": {
      "name": "python"
    }
  },
  "cells": [
    {
      "cell_type": "markdown",
      "source": [
        "FOR DONGUSU"
      ],
      "metadata": {
        "id": "jcWqJx7evXIY"
      }
    },
    {
      "cell_type": "code",
      "execution_count": null,
      "metadata": {
        "colab": {
          "base_uri": "https://localhost:8080/"
        },
        "id": "Fbi055-du0ZH",
        "outputId": "22867214-1c38-4b05-a8a4-f3ee96eb0efb"
      },
      "outputs": [
        {
          "output_type": "stream",
          "name": "stdout",
          "text": [
            "hosgeldiniz 0\n",
            "hosgeldiniz 1\n",
            "hosgeldiniz 2\n",
            "hosgeldiniz 3\n",
            "hosgeldiniz 4\n",
            "hosgeldiniz 5\n",
            "hosgeldiniz 6\n",
            "hosgeldiniz 7\n",
            "hosgeldiniz 8\n",
            "hosgeldiniz 9\n",
            "hosbulduk\n"
          ]
        }
      ],
      "source": [
        "for indeks in range (0,10):\n",
        "  print('hosgeldiniz '+ str(indeks))\n",
        "print('hosbulduk')"
      ]
    },
    {
      "cell_type": "markdown",
      "source": [
        "![image.png](data:image/png;base64,iVBORw0KGgoAAAANSUhEUgAAADAAAABHCAIAAADOR1OpAAAEPElEQVRoge2ZTWwTRxTHHxWXzSGXRYLLymvWN3KyckCkK0UREqwaUgQiB0dO0lNJGtulTRu7arCTIBK+7HxUCZUwheaEUXsw1m57tesoqWJLpVK7K2EbORcqecuBaPfoHoaujCH7MV4rEdq/fPCM38z8NG/mvZnxoXq9DgdJH+w3QLMcICO9L0CSJD1OpexFea06lnieZ1x0KBBkXDTjok/39YmiiNdVk1p12Z9///XseeXEia6J8XFbJqgloC+/miQIAgDOcGcrpfL+A3V0dNgC0aj3ZZe1TwcO6JCTXA104IAO6/ymqmpkKpxJp/G6/mH9R5ZlrbbSmyGCIKajV93McTyg3d1djFZ6MwQAJEneuHVr8MJFrSb1809er3cve0EQfhV+QZO6++oVBpCp5Jp69AglUZRHa7Wavn0iHmdcdPLevXYl1/5z5072nELfK6Xy3Mysvv2nly+7meM7OzsYE2QKiCCI+YUFrZhJpwVB0Lf/YnLy5b8v2wUEABRFraytasXA2Lj+BHR1ddXkWhuBAIDjOP/oiFaMhMOqqu5lTFHUEfJIU6Wqqh7avZhI2AMEABOBgBYFNvMb39+9q2O8uLxkqXMcIBQFtOJ3S8u5XA5jVNuAAMDr9c7fvKEVZ2MxWZaxhy8Wi49TqcYtgpPLrEYBHZrBCxfzv+V7e3tbAno7CmBciRCNf3RkcXkJHcxfCyOYIqGbkPYpFAqGTRRFYVx0Ih4vFAqMi45Fo5iR+p3iOG4iFNSK8Tt3dKJAo7a3txuTY5NaOg/5h4e1KNDd3W2y1WZ+wz868s30t+sPHhaLxeafsV3W6LhQIGjGGLlMMx7y+YZ8viabloCq1erpvr5QIKgoinmgRDyOitlslnHRPM832uC7TJblSDh89Nix6ejVN7aJabEs2z8wEL99u3HxYQKpqjo3M/vPixfzCwskSeJ1AgBjn41XSuU3UhCes2LRKOOiq9UqXnMd4QChA6GZwIMhy0DoOJvNZk3am1/yOEBokzftCx2JoqjtKfuB0C41f3RXFGXI5zNPbw1IFMW9ss9ewlv4poC0AGjSmOf5IZ8PJV1LNPV63eCiCP8HwEqpXCmVrV6r+wcGrEYmg8CoqmooGNzMb1jtF6nnwx47gWRZjkyFsWkAgPF4rDZxHqyM5AAZyQDIQ7vvJ5OtDCAIwkwsZhtQ6/p9a8uSvQUgSZLuJ5OWXn0EQVh/8LAtQJIkfXTmLABQFGWyiYd2B8Ys/0VknDo0mpW1VY7jtMpcLveJf/ht463CNjrUPnteAQBLC8gU0NM/nl6fu3ay51QjDQCwLIuGtFfGLsuk0/7Rkc38hu0vL++U8QxNhIKfX7lCUdRsLJbOZLQbj6HL2gXU2dkJAB+fP3997lrmyZNLg4Ooft9chkSS5MraauTrKbzHXvNysr2RHCAjOUBGcoCM5AAZ6cAB/QfE7HDG+8GILwAAAABJRU5ErkJggg==) ekrandan girilen n değerine göre işlem sonucunu ekrana yazdıran kodu hazırlayınız. \n",
        "\n",
        "Sonucu kontrol etmek için ![image.png](data:image/png;base64,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) kullanabilirsiniz"
      ],
      "metadata": {
        "id": "fLbON2ABu482"
      }
    },
    {
      "cell_type": "code",
      "source": [
        "sayi=int(input('sayi giriniz: '))\n",
        "toplam=0\n",
        "for x in range(1,sayi+1):\n",
        "  toplam=toplam+x\n",
        "print(toplam)\n",
        "\n",
        "toplam2=(sayi*(sayi+1))//2\n",
        "print(toplam2)\n",
        "  \n",
        " \n"
      ],
      "metadata": {
        "colab": {
          "base_uri": "https://localhost:8080/"
        },
        "id": "Jm0-xntIxQvS",
        "outputId": "501ed379-ecbe-4242-f25c-15b84596dfc4"
      },
      "execution_count": null,
      "outputs": [
        {
          "output_type": "stream",
          "name": "stdout",
          "text": [
            "sayi giriniz: 3\n",
            "6\n",
            "6\n"
          ]
        }
      ]
    },
    {
      "cell_type": "markdown",
      "source": [
        "![image.png](data:image/png;base64,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)  işlemin Sonucunu hesaplayan python kodunuz yazınız"
      ],
      "metadata": {
        "id": "HXwIB2FTvddj"
      }
    },
    {
      "cell_type": "code",
      "source": [
        "toplam=0\n",
        "for x in range(-20,22):\n",
        "  toplam=toplam+(x*x*x)\n",
        "  #toplam=toplam+pow(x,3)\n",
        "  #toplam=toplam+x**3\n",
        "print(toplam)"
      ],
      "metadata": {
        "colab": {
          "base_uri": "https://localhost:8080/"
        },
        "id": "LlihniSDy_xB",
        "outputId": "c0824b36-5ee4-411c-b400-eb4db11186ad"
      },
      "execution_count": null,
      "outputs": [
        {
          "output_type": "stream",
          "name": "stdout",
          "text": [
            "9261\n"
          ]
        }
      ]
    },
    {
      "cell_type": "markdown",
      "source": [
        "![image.png](data:image/png;base64,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) işleminin sonucu hesaplayan python kodunu yazınız"
      ],
      "metadata": {
        "id": "yq2NxdQavkCu"
      }
    },
    {
      "cell_type": "code",
      "source": [
        "toplam=0\n",
        "for x in range(1,31):\n",
        "  islem=(x-1)*(x+2)\n",
        "  toplam=toplam+islem\n",
        "print(toplam)"
      ],
      "metadata": {
        "colab": {
          "base_uri": "https://localhost:8080/"
        },
        "id": "wMp1tq9q084q",
        "outputId": "889f6098-2413-4576-971c-66e44dfd52dd"
      },
      "execution_count": null,
      "outputs": [
        {
          "output_type": "stream",
          "name": "stdout",
          "text": [
            "9860\n"
          ]
        }
      ]
    },
    {
      "cell_type": "code",
      "source": [
        "toplam=0\n",
        "for i in range(1,11):\n",
        "  sayi=int(input('sayi giriniz: '))\n",
        "  toplam=toplam+sayi\n",
        "print(toplam)\n",
        "print('ortalama: '+str(toplam*0.1))"
      ],
      "metadata": {
        "colab": {
          "base_uri": "https://localhost:8080/"
        },
        "id": "jzIGCSVC2HCe",
        "outputId": "a5bc25ee-a59c-4f63-de5b-abcb860d6fd7"
      },
      "execution_count": null,
      "outputs": [
        {
          "output_type": "stream",
          "name": "stdout",
          "text": [
            "sayi giriniz: 1\n",
            "sayi giriniz: 1\n",
            "sayi giriniz: 1\n",
            "sayi giriniz: 1\n",
            "sayi giriniz: 1\n",
            "sayi giriniz: 1\n",
            "sayi giriniz: 1\n",
            "sayi giriniz: 1\n",
            "sayi giriniz: 1\n",
            "sayi giriniz: 1\n",
            "10\n",
            "ortalama: 1.0\n"
          ]
        }
      ]
    },
    {
      "cell_type": "markdown",
      "source": [
        "Ekrandan istenen 10 adet sayının ortalamasını ve toplamını yazdıran kodu hazırlayınız. Çift ve tek sayıları \n",
        "sayıları ayrı hesaplayın."
      ],
      "metadata": {
        "id": "tFx3ZEIGvuge"
      }
    },
    {
      "cell_type": "code",
      "source": [
        "sayac=0\n",
        "ciftToplam=0\n",
        "tekToplam=0\n",
        "for i in range(1,6):\n",
        "  sayi=int(input('sayi giriniz: '))\n",
        "  if sayi%2==1:\n",
        "    tekToplam+=sayi\n",
        "    sayac+=1\n",
        "  else:\n",
        "    ciftToplam+=sayi\n",
        "print(tekToplam)\n",
        "print(ciftToplam)\n",
        "\n",
        "if sayac>0:\n",
        "  tekOrt=tekToplam/sayac\n",
        "  print(tekOrt)\n",
        "else:\n",
        "  print('Girilen degerlerde tek sayi bulunmamaktadir')\n",
        "if sayac==5:\n",
        "  print('Girilen degerlerde cift sayi bulunmamaktadir')\n",
        "else:\n",
        "  ciftOrt=ciftToplam/(sayi-sayac)\n",
        "  print(ciftOrt)\n",
        "\n"
      ],
      "metadata": {
        "colab": {
          "base_uri": "https://localhost:8080/"
        },
        "id": "1f5O7L7J30DF",
        "outputId": "f114595f-0f4d-4edf-bca1-7f6abdbbda3c"
      },
      "execution_count": null,
      "outputs": [
        {
          "output_type": "stream",
          "name": "stdout",
          "text": [
            "sayi giriniz: 2\n",
            "sayi giriniz: 2\n",
            "sayi giriniz: 2\n",
            "sayi giriniz: 2\n",
            "sayi giriniz: 2\n",
            "0\n",
            "10\n",
            "Girilen degerlerde tek sayi bulunmamaktadir\n",
            "5.0\n"
          ]
        }
      ]
    },
    {
      "cell_type": "markdown",
      "source": [
        "![image.png](data:image/png;base64,iVBORw0KGgoAAAANSUhEUgAAADkAAABKCAIAAACOzGu9AAADLklEQVRoge2aTUjbUBzAn2MXvfYsTW1nBIc7bDBRPBXZCvM4D7qqmzCZaCtss3Zs2KEIDlq1Fb2YEnHC6G7Vme3aurGLwpzdGtBW8KJgzu+YHR6UkNj68vH01eVHDuHl/V9+fX15eR+pkWUZVAk3rlpAB7YrGWxXMtiuZLDAVRTFz6mU+XIuxALXQqEQHg+NBYIexuVhXJ1eryiK5ovVYmUb+P33z8FRsbn59sjwsIXFlrDM9eXrV7W1tQCAB76HxcOCVcUqscy1rq7OqqLK8Z/1A5dGNbnW2ONXItiuZLhZ4ZokSffv3iN04y/fvrIsqysE69kSBGH0hTWvzTfv3j4bHDQYLOMxF4u5nQw6ent6MKNkWY5MTpYCg6MB/EAtuO2VbWoyWBkKWu60mAmvpmfLdiWD7aqTsUCw0+u9MBsVrphUk2uld+xVASHc3NgAADzq6kJzOAR1rhDCcGgil9tP8rxSFNDWBpDomXSW5Pn6+nrVVYrqtSS6EI87HA5tBorqNRya2EynQfnpOy2uxcNCLrefWF76+f0HerC00OLqcjd8SqV8Pt9IMBAeDx0fH2vz0OIKAEBt1N/X53I3JDlOm4EiV4TD4Xg+NLTGr+7u7qouUecKAHjc3d3a3haLRlXpVPRZ8/EFVcrH9XVtNhrrtRy2KxlsVzLYrmQw4np6cmK5Bw64rmI+XzovHhYkScIM3M5mS+d7v/bwzbRguQqCsLgQV6YsJhIX6kII5+fmlHtdm+n0uYMSTCqtaeKsv567RpnNZp/6+yoHklp/pYTr3g9cFdfRVRRFD+PKKjogA7yPRARBMBx+efUKIdw291MNugqCkOQ4CCF+yIfZWZPfFRhxRVtItxobVetN5UDtZ41fNXAvJbrnW0hU1ZMnOW5malqVs7W9DU2bWJY9OCoCADyMy5Qs5t5SPp93Oxm0WcWtrBjboHI7ma2tLWOxMv7+FmKNX/UP9M9MTeOPXSxEn2tieWkyEmltb1tMJJTpSY5DHzwpjye9vZaq6mwDmUxGluVMJuN2Mjs7O3r/xEttA4iOjg7/QH8sGtXVZ5nHHmeRwXYlg+1Khmpy/QdAvs83Sw9w2wAAAABJRU5ErkJggg==) ekrandan girilen n değerine göre hesaplamayı yapan kodu yazınız"
      ],
      "metadata": {
        "id": "edZVHg3uv15H"
      }
    },
    {
      "cell_type": "code",
      "source": [
        "n=int(input('n degeri giriniz: '))\n",
        "carpim=1\n",
        "for k in range(1,n+1):\n",
        "  carpim*=k\n",
        "print(carpim)\n"
      ],
      "metadata": {
        "colab": {
          "base_uri": "https://localhost:8080/"
        },
        "id": "A-yUVpKJ6eNN",
        "outputId": "33e11964-d6b7-4a15-cf16-9f26dc7d0df6"
      },
      "execution_count": null,
      "outputs": [
        {
          "output_type": "stream",
          "name": "stdout",
          "text": [
            "n degeri giriniz: 3\n",
            "6\n"
          ]
        }
      ]
    },
    {
      "cell_type": "markdown",
      "source": [
        "![image.png](data:image/png;base64,iVBORw0KGgoAAAANSUhEUgAAAEQAAABOCAIAAAAW6ieDAAAEEUlEQVRoge2aTUwTQRTHn8ZLG4RoTSQhpFvbggdOxQSjNOGmjU3vsgURThpo9YYEdNGDYBBt+TYpKuhlCQQa7GoMHqgYDsBJkjbQloQLJl0JkbDHethk09BSZj/qTnF/2cN2ZufN/Dszb9/M7KlUKgUnhdNqN0BJNDG4oonBFU0MriggZoqmo9GofDvyOSX/pWkhTE6Xaz4Y5H82NN15QlGyGyaJlGzMRsJsJBYXF1Op1OrqqtlIhEIh+WYloMycafV67HY7ANhsNkUMSkMZMcXFxYrYkYnmzXDlRIlRwDXjw4nqGU0MrpzJkceybE31lTxVPDAy7HA4lLWJ5AAYhmm7d1+R+lq9nobGRoPBoIi1wyCGPa/6+/kYzGwkyPp69HgpFAoJBc1G4uDgQELQhQjqnKm8fFn+H+d0uXQ6nYSCDMNYCBPLsrkfQxVTVFQkoRGHOHf+nHwjOShIbzZF0wzDZKYXnphuipqbm6uqqsrMyuWaMaSbojY2Nnx+f1Z/WEhinnU/nQ8G305OHOXZC2mYJdmk0+UaGx096oFC6pnnPT16vb6m+grDMFmjByx6huO4KZq2ECb+cpNkVmel1+sNBkNHV2d/X1/Wdw4WYl709r4ZG6Nnpje3EptbCdLtbrt3P6seALhdXw8AkxMTmVlYDLPv4fAtp1PY2amrqwOAaCQijCWHw7G5leDvdTrd14WFrHawEJPeOJZlvx3R1mPBQsz29vZ4IDD57r1MO+qL4TiuuakpEYsDQKvXU1ZWVnT2rLQVh/piVlZWErF4R1dnc0sLn8JxnDRT6nuz/f19ALBWVAgpyWRSmin1xfAhozDp19bWHrW3A8De3p5YU+oPs/Lycnpmuv/lSwthAgCny0W63QAw+e59SUnJg4cP0U2pLwYAbDbbh48fDyUuL/0QawcLMZmkvyXRUX/OKIgmBlc0MbiiicEVVDF8BMXza2cHvYL9P3+E+93fu+gFJYAqJhqJCPeJWPzYbV+Bpe9Lwv36+k/JETEKSGIYhhn0+dNTBgcGUPRM0bTwGQoAJGLxsdHR/OnJdT6DctiUvg4RiEajt27czF1QtcOmQuG/9GYFAaqYbopyk6TMyiyEKa+f2f27nvkHXwtKEcOy7HggEA6HRRUZGRqWUJcoRK80WZb1ejwXDBf4PV8UFDx5z424nuGVWK3W135f+rmxmySFPXzhGg8E+Fx+Dfzpy2clG54NET3za2fH6/EsL/3w+f2HsjK3I1RBRM8kYnGr1WoyX5qbnc1fg+QgomdM5ktPKCocDt9taLxeW1tZWSlkuUkyc2coa6STV0SIuVhaCgB2u/3q9WsjQ8Ov/T4hq/CGmUDX48fzweBRJ1sqogWauKKJwRVNDK5oYnBFE4MrJ0rMX+HHzhOHi64sAAAAAElFTkSuQmCC) ekrandan girilen n değerine göre hesaplamayı yapınız\n",
        "\n",
        "![image.png](data:image/png;base64,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) bu formül ile sonuç karşılaştırması yapabilirsiniz."
      ],
      "metadata": {
        "id": "X0JOxI5Mv9V2"
      }
    },
    {
      "cell_type": "code",
      "source": [
        "n=int(input('n degeri giriniz: '))\n",
        "a=int(input('a degeri giriniz: '))\n",
        "carpim=1\n",
        "for k in range(1,n+1):\n",
        "  hesaplama=a**k\n",
        "  carpim*=hesaplama\n",
        "print(carpim)\n",
        "\n",
        "kontrol=a**((n*(n+1))/2)\n",
        "print(kontrol)"
      ],
      "metadata": {
        "colab": {
          "base_uri": "https://localhost:8080/"
        },
        "id": "YHDelu6B7KV-",
        "outputId": "2b5a912a-94e0-4884-f526-f2a760cf9f88"
      },
      "execution_count": null,
      "outputs": [
        {
          "output_type": "stream",
          "name": "stdout",
          "text": [
            "n degeri giriniz: 2\n",
            "a degeri giriniz: 2\n",
            "8\n",
            "8.0\n"
          ]
        }
      ]
    },
    {
      "cell_type": "markdown",
      "source": [
        "Ekrandan kaç adet sayı girmek istediği bilgisi alınmalı. İstenilen sayıda ekrandan sayı girişi yapması istenmeli. Girilen sayılardan kaç tanesinin pozitif kaç tanesinin negatif olduğu sonucu ekrana yazdırılmalı. Pozitif ve negatif sayıların ayrı ayrı ortalamaları ekrana yazdırılmalı"
      ],
      "metadata": {
        "id": "rkMjLQNvwMii"
      }
    },
    {
      "cell_type": "code",
      "source": [
        "pToplam=0\n",
        "tToplam=0\n",
        "pozitif=0\n",
        "negatif=0\n",
        "sayi=int(input('kac adet sayi girmek istersiniz: '))\n",
        "for i in range (0, sayi):\n",
        "  num=int(input('sayi giriniz: '))\n",
        "  if num>0:\n",
        "    pToplam+=num\n",
        "    pozitif+=1\n",
        "  else:\n",
        "    tToplam+=num\n",
        "    negatif+=1\n",
        "print('pozitif sayi adedi: ',pozitif)\n",
        "print('negatif sayi adedi: ',negatif)\n",
        "print(pToplam)\n",
        "print(tToplam)\n",
        "\n",
        "if negatif>0:\n",
        "  print('negatif ort: ',tToplam/negatif)\n",
        "else:\n",
        "  print('pozitif ort: ',pToplam/pozitif)\n"
      ],
      "metadata": {
        "colab": {
          "base_uri": "https://localhost:8080/"
        },
        "id": "2KAca32x95au",
        "outputId": "c5315da6-6a2e-4bf0-c7ca-9ea9688b5deb"
      },
      "execution_count": null,
      "outputs": [
        {
          "output_type": "stream",
          "name": "stdout",
          "text": [
            "kac adet sayi girmek istersiniz: 5\n",
            "sayi giriniz: 1\n",
            "sayi giriniz: 2\n",
            "sayi giriniz: -1\n",
            "sayi giriniz: -2\n",
            "sayi giriniz: 3\n",
            "6\n",
            "-3\n",
            "pozitif ort:  2.0\n",
            "negatif ort:  -1.5\n"
          ]
        }
      ]
    },
    {
      "cell_type": "markdown",
      "source": [
        "A Ülkesinin bugünkü nüfusu 10 milyon ve yıllık nüfus artış hızı %25, B ülkesinin bugünkü nüfusu 40 milyon ve yıllık nüfus artış hızı %12'dir. Bu bilgilere göre, A ülkesinin B ülkesinin nüfusunu kaç yıl sonra geçeceğini hesaplayan kodu tasarlayınız. Bunu tasarlarken her yıl A ve B ülkelerinin nüfus sayılarını ekrana yazdırınız"
      ],
      "metadata": {
        "id": "_bXgrl4Bwkeb"
      }
    },
    {
      "cell_type": "code",
      "source": [
        "aNufus=10\n",
        "bNufus=40\n",
        "aArtis=0.25\n",
        "bArtis=0.12\n",
        "sayac=0\n",
        "\n",
        "while aNufus<bNufus:\n",
        "  aNufus+=(aNufus*aArtis)\n",
        "  bNufus+=(bNufus*bArtis)\n",
        "  sayac+=1\n",
        "  print('Anın nufusu',aNufus,sayac)\n",
        "  print('Bnin nufusu',bNufus,sayac)\n",
        "print(sayac, 'yıl sonra Anın nufusu Byi gecer')\n"
      ],
      "metadata": {
        "colab": {
          "base_uri": "https://localhost:8080/"
        },
        "id": "nv7Zp3ThJO1O",
        "outputId": "1b730be6-8203-4e8f-fe35-f5e933a7f22a"
      },
      "execution_count": null,
      "outputs": [
        {
          "output_type": "stream",
          "name": "stdout",
          "text": [
            "Anın nufusu 12.5 1\n",
            "Bnin nufusu 44.8 1\n",
            "Anın nufusu 15.625 2\n",
            "Bnin nufusu 50.175999999999995 2\n",
            "Anın nufusu 19.53125 3\n",
            "Bnin nufusu 56.19711999999999 3\n",
            "Anın nufusu 24.4140625 4\n",
            "Bnin nufusu 62.94077439999999 4\n",
            "Anın nufusu 30.517578125 5\n",
            "Bnin nufusu 70.49366732799999 5\n",
            "Anın nufusu 38.14697265625 6\n",
            "Bnin nufusu 78.95290740735999 6\n",
            "Anın nufusu 47.6837158203125 7\n",
            "Bnin nufusu 88.42725629624319 7\n",
            "Anın nufusu 59.604644775390625 8\n",
            "Bnin nufusu 99.03852705179237 8\n",
            "Anın nufusu 74.50580596923828 9\n",
            "Bnin nufusu 110.92315029800746 9\n",
            "Anın nufusu 93.13225746154785 10\n",
            "Bnin nufusu 124.23392833376835 10\n",
            "Anın nufusu 116.41532182693481 11\n",
            "Bnin nufusu 139.14199973382054 11\n",
            "Anın nufusu 145.51915228366852 12\n",
            "Bnin nufusu 155.83903970187902 12\n",
            "Anın nufusu 181.89894035458565 13\n",
            "Bnin nufusu 174.5397244661045 13\n",
            "13 yıl sonra Anın nufusu Byi gecer\n"
          ]
        }
      ]
    },
    {
      "cell_type": "markdown",
      "source": [
        "Bir parfümeride satılan ojeler Kırmızı, Yeşil, Sarı ve Siyah renktedir. Ürün kodları sırasıyla 1,2,3 ve 4'tür. Parfümeri, hangi renk ojeden kaç tane satıldığını bilmek istemektedir. Ekrandan ürün kodu istenmelidir ve hata denetimi yapmalıdır. Girdiyi sonlandırmak için 111 kodu girilmelidir. Örnek çıktı: Kod giriniz (1,2,3, 4 ya da çıkmak için 111) : 1 Kod giriniz (1,2,3, 4 ya da çıkmak için 111) : 1 Kod giriniz (1,2,3, 4 ya da çıkmak için 111) : 5 Hata!! Lütfen geçerli bir kod giriniz\n",
        "Kod giriniz (1,2,3, 4 ya da çıkmak için 111) : 3 Kod giriniz (1,2,3, 4 ya da çıkmak için 111) : 111 Gün Sonu Satış Raporu: 2Kırmızı, 0 Yeşil, 1 Sarı ve 0 Siyah oje satılmıştır. Toplam satılan ürün sayısı : 3"
      ],
      "metadata": {
        "id": "Tj5Ptjlewn5N"
      }
    },
    {
      "cell_type": "code",
      "source": [
        "#kod=input('Kod giriniz (1,2,3,4 ya da çıkmak için 111)')\n",
        "kod=0\n",
        "kirmizi=0\n",
        "yesil=0\n",
        "sari=0\n",
        "siyah=0 \n",
        "kod=input('Kod giriniz (1,2,3,4 ya da çıkmak için 111)')\n",
        "while kod!='111':\n",
        "  if kod=='1':\n",
        "    kirmizi+=1\n",
        "  elif kod=='2':\n",
        "    yesil+=1\n",
        "  elif kod=='3':\n",
        "    sari+=1\n",
        "  elif kod=='4':\n",
        "    siyah+=1\n",
        "  else:\n",
        "    print('Hata!! Lütfen geçerli bir kod giriniz.')\n",
        "  kod=input('Kod giriniz (1,2,3,4 ya da çıkmak için 111)')\n",
        "toplam=kirmizi+sari+yesil+siyah\n",
        "print('Gün Sonu Satış Raporu: ', kirmizi, 'Kırmızı',yesil,'Sarı',sari,'Yeşil',siyah,'Siyah','oje satılmıştır.')\n",
        "print('Toplam satılan ürün sayısı: ', toplam)"
      ],
      "metadata": {
        "colab": {
          "base_uri": "https://localhost:8080/"
        },
        "id": "46Nk7gKTLkKN",
        "outputId": "46b2ea92-6060-4456-f001-425eb3125c13"
      },
      "execution_count": null,
      "outputs": [
        {
          "output_type": "stream",
          "name": "stdout",
          "text": [
            "Kod giriniz (1,2,3,4 ya da çıkmak için 111)1\n",
            "Kod giriniz (1,2,3,4 ya da çıkmak için 111)2\n",
            "Kod giriniz (1,2,3,4 ya da çıkmak için 111)111\n",
            "Gün Sonu Satış Raporu:  1 Kırmızı 1 Sarı 0 Yeş1il 0 Siyah oje satılmıştır.\n",
            "Toplam satılan ürün sayısı:  2\n"
          ]
        }
      ]
    },
    {
      "cell_type": "code",
      "source": [
        "#Basit fonksiyon tanımlama ornegi\n",
        "def fonksiyonAdi(parametreler):\n",
        "  print(parametreler, 'Merve')\n",
        "fonksiyonAdi('Merhaba')\n",
        "for i in range(10,20):\n",
        "  print(i)\n",
        "for m in range(10,20,2):\n",
        "  print(m)"
      ],
      "metadata": {
        "colab": {
          "base_uri": "https://localhost:8080/"
        },
        "id": "0a74z9q8SEs-",
        "outputId": "aa919b46-701a-4d96-f45f-b95ea79b6966"
      },
      "execution_count": null,
      "outputs": [
        {
          "output_type": "stream",
          "name": "stdout",
          "text": [
            "Merhaba Merve\n",
            "10\n",
            "11\n",
            "12\n",
            "13\n",
            "14\n",
            "15\n",
            "16\n",
            "17\n",
            "18\n",
            "19\n",
            "10\n",
            "12\n",
            "14\n",
            "16\n",
            "18\n"
          ]
        }
      ]
    }
  ]
}