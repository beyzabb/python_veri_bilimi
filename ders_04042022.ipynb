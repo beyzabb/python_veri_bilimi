{
  "nbformat": 4,
  "nbformat_minor": 0,
  "metadata": {
    "colab": {
      "name": "ders_04042022.ipynb",
      "provenance": [],
      "collapsed_sections": []
    },
    "kernelspec": {
      "name": "python3",
      "display_name": "Python 3"
    },
    "language_info": {
      "name": "python"
    }
  },
  "cells": [
    {
      "cell_type": "code",
      "execution_count": null,
      "metadata": {
        "colab": {
          "base_uri": "https://localhost:8080/"
        },
        "id": "eJAiQqZDP6eT",
        "outputId": "524487a8-eea4-49ae-aae3-19a3769c8d70"
      },
      "outputs": [
        {
          "output_type": "stream",
          "name": "stdout",
          "text": [
            "Hello World\n"
          ]
        }
      ],
      "source": [
        "print('Hello World')"
      ]
    },
    {
      "cell_type": "markdown",
      "source": [
        "Değişken tanımlama kuralları:\n",
        "1. Türkçe karakter kullanılmaz.\n",
        "2. İsimlendirme sayı ile başlamaz.\n",
        "3. Boşluk ve özel karakter kullanılmaz(alt tire harici).\n",
        "4. Büyük harfle başlamazsanız iyi olur."
      ],
      "metadata": {
        "id": "UDo6XAA5SOvu"
      }
    },
    {
      "cell_type": "code",
      "source": [
        "a=5+2\n",
        "b='2'+'5'\n",
        "print(a)\n",
        "print(b)"
      ],
      "metadata": {
        "colab": {
          "base_uri": "https://localhost:8080/"
        },
        "id": "NWb2w7gpQa5_",
        "outputId": "80356222-6d6e-4be1-fd71-46466faa9de1"
      },
      "execution_count": null,
      "outputs": [
        {
          "output_type": "stream",
          "name": "stdout",
          "text": [
            "7\n",
            "25\n"
          ]
        }
      ]
    },
    {
      "cell_type": "code",
      "source": [
        "isim='username'\n",
        "print(\"Hoşgeldin \"+isim)"
      ],
      "metadata": {
        "colab": {
          "base_uri": "https://localhost:8080/"
        },
        "id": "OIvFdw22RX2-",
        "outputId": "931cebb0-2db2-4f19-c507-779d673740b0"
      },
      "execution_count": 1,
      "outputs": [
        {
          "output_type": "stream",
          "name": "stdout",
          "text": [
            "Hoşgeldin username\n"
          ]
        }
      ]
    },
    {
      "cell_type": "code",
      "source": [
        "a=2+5\n",
        "b=2-5\n",
        "c=2*5\n",
        "d=2/5\n",
        "print(a,b,c,d)"
      ],
      "metadata": {
        "colab": {
          "base_uri": "https://localhost:8080/"
        },
        "id": "2E-tMfmHRpk3",
        "outputId": "3ef55ef7-2a77-42c7-cdb1-ce2e6d8fa02e"
      },
      "execution_count": null,
      "outputs": [
        {
          "output_type": "stream",
          "name": "stdout",
          "text": [
            "7 -3 10 0.4\n"
          ]
        }
      ]
    },
    {
      "cell_type": "code",
      "source": [
        "ad=input('adınızı yazınız: ')\n",
        "cinsiyet=input('cinsiyetinizi giriniz(k:kadin e:erkek): ')\n",
        "if cinsiyet=='k':\n",
        "  print('Hosgeldiniz '+ad+' Hanım')\n",
        "else:\n",
        "  print('Hosgeldiniz '+ad+' Bey')\n"
      ],
      "metadata": {
        "colab": {
          "base_uri": "https://localhost:8080/"
        },
        "id": "0NPDhHJuSt5y",
        "outputId": "e2656909-df4e-4f8f-8d5a-9cf65eb27bbf"
      },
      "execution_count": 2,
      "outputs": [
        {
          "output_type": "stream",
          "name": "stdout",
          "text": [
            "adınızı yazınız: Merve\n",
            "cinsiyetinizi giriniz(k:kadin e:erkek): k\n",
            "Hosgeldiniz Merve Hanım\n"
          ]
        }
      ]
    },
    {
      "cell_type": "code",
      "source": [
        "sayi1=int(input('Birinci sayiyi giriniz: ')) \n",
        "sayi2=int(input('Ikinci sayiyi giriniz: '))\n",
        "print(sayi1+sayi2)"
      ],
      "metadata": {
        "colab": {
          "base_uri": "https://localhost:8080/"
        },
        "id": "IBWPSlfTTWu1",
        "outputId": "7c1b2720-3649-401f-f516-e92448dc273e"
      },
      "execution_count": null,
      "outputs": [
        {
          "output_type": "stream",
          "name": "stdout",
          "text": [
            "Birinci sayiyi giriniz: 1\n",
            "Ikinci sayiyi giriniz: 2\n",
            "3\n"
          ]
        }
      ]
    },
    {
      "cell_type": "markdown",
      "source": [
        "Convert yerine donusturmek istedigimiz degiskenin turunu basina yaziyoruz\n",
        "integer = int\n",
        "string = str"
      ],
      "metadata": {
        "id": "QkQx8Lp5UVKV"
      }
    },
    {
      "cell_type": "code",
      "source": [
        "sayi3=int(input()) #int\n",
        "sayi4=input()      #string   \n",
        "print(str(sayi3)+sayi4)"
      ],
      "metadata": {
        "colab": {
          "base_uri": "https://localhost:8080/"
        },
        "id": "W1nBrv0tUhBX",
        "outputId": "40a2af3a-1a1c-40cd-facc-d03892273d26"
      },
      "execution_count": null,
      "outputs": [
        {
          "output_type": "stream",
          "name": "stdout",
          "text": [
            "14\n",
            "11\n",
            "1411\n"
          ]
        }
      ]
    },
    {
      "cell_type": "markdown",
      "source": [
        "İki farklı türeki değişkeni toplama vb. işlemleri yapamaz. Float ve int birlikte calisabilir."
      ],
      "metadata": {
        "id": "Klcg9YFCVX7k"
      }
    },
    {
      "cell_type": "code",
      "source": [
        "bolme=sayi3/sayi2\n",
        "bolme  # print(bolme)= bolme"
      ],
      "metadata": {
        "colab": {
          "base_uri": "https://localhost:8080/"
        },
        "id": "LUzBUir5V0MZ",
        "outputId": "4e5848df-b912-4aeb-fcb7-089e0e5af471"
      },
      "execution_count": null,
      "outputs": [
        {
          "output_type": "execute_result",
          "data": {
            "text/plain": [
              "7.0"
            ]
          },
          "metadata": {},
          "execution_count": 17
        }
      ]
    },
    {
      "cell_type": "code",
      "source": [
        "virgulluSayi= input('bir sayi giriniz: ') #string\n",
        "print(virgulluSayi)\n",
        "carpma=virgulluSayi*2\n",
        "print(carpma)\n",
        "\n",
        "virgulluSayi1= float(input('bir sayi giriniz: ')) #float\n",
        "print(virgulluSayi1)\n",
        "carpma=virgulluSayi1*2\n",
        "print(carpma)\n",
        "\n"
      ],
      "metadata": {
        "colab": {
          "base_uri": "https://localhost:8080/"
        },
        "id": "wt9kMCGievLA",
        "outputId": "04aede51-6abe-4a7c-c1c6-fac18285f42e"
      },
      "execution_count": null,
      "outputs": [
        {
          "output_type": "stream",
          "name": "stdout",
          "text": [
            "bir sayi giriniz: 12.3\n",
            "12.3\n",
            "12.312.3\n",
            "bir sayi giriniz: 11.3\n",
            "11.3\n",
            "22.6\n"
          ]
        }
      ]
    },
    {
      "cell_type": "code",
      "source": [
        "#Vize, final notu ile ortalama hesaplama\n",
        "vize=int(input('vize notunu giriniz: '))\n",
        "final=float(input('final notunu giriniz: '))\n",
        "ort=(vize*0.6)+(final*0.4)\n",
        "print(ort)"
      ],
      "metadata": {
        "colab": {
          "base_uri": "https://localhost:8080/"
        },
        "id": "NeZVrf1xf_62",
        "outputId": "11768d32-6673-4050-c94d-595c17cdc2c9"
      },
      "execution_count": null,
      "outputs": [
        {
          "output_type": "stream",
          "name": "stdout",
          "text": [
            "vize notunu giriniz: 99\n",
            "final notunu giriniz80\n",
            "91.4\n"
          ]
        }
      ]
    },
    {
      "cell_type": "code",
      "source": [
        "#Ortalama notunu harf notuna dönüştürme\n",
        "if ort>=96:\n",
        "  print('AA')\n",
        "elif ort>=85 and ort<96:\n",
        "  print('BA')\n",
        "elif ort>=75 and ort<85:\n",
        "  print('BB')\n",
        "elif ort>=60 and ort<75:\n",
        "  print('CB')\n",
        "else:\n",
        "  print('FF')"
      ],
      "metadata": {
        "colab": {
          "base_uri": "https://localhost:8080/"
        },
        "id": "6ReWZ-zImQws",
        "outputId": "8e6ffef5-70e4-4c3a-cd2e-4b1648491083"
      },
      "execution_count": null,
      "outputs": [
        {
          "output_type": "stream",
          "name": "stdout",
          "text": [
            "BA\n"
          ]
        }
      ]
    },
    {
      "cell_type": "code",
      "source": [
        "#Vücut Kitle Endeksi hesaplaması\n",
        "boy=float(input('boyunuzu giriniz(m): '))\n",
        "kilo=float(input('kilonuzu giriniz(kg): '))\n",
        "vki= kilo/(boy*boy)\n",
        "print(vki)"
      ],
      "metadata": {
        "colab": {
          "base_uri": "https://localhost:8080/"
        },
        "id": "TMuzNtPzhmNO",
        "outputId": "63cbf4a1-eda4-4e13-ac73-a546963598f9"
      },
      "execution_count": null,
      "outputs": [
        {
          "output_type": "stream",
          "name": "stdout",
          "text": [
            "boyunuzu giriniz: 1.65\n",
            "kilonuzu giriniz: 70\n",
            "25.71166207529844\n"
          ]
        }
      ]
    },
    {
      "cell_type": "code",
      "source": [
        "if vki<=18.4:\n",
        "  print('Zayıf')\n",
        "elif vki>18.5 and vki<=24.9:\n",
        "  print('Normal')\n",
        "elif vki>24.9 and vki<=29.9:\n",
        "  print('Fazla Kilolu')\n",
        "elif vki>29.9 and vki<34.9:\n",
        "  print('Şişman')\n",
        "else:\n",
        "  print('Aşırı Şişman')\n"
      ],
      "metadata": {
        "colab": {
          "base_uri": "https://localhost:8080/"
        },
        "id": "paXkI0XKjB81",
        "outputId": "958265f0-fc80-4d29-e432-867b1144af36"
      },
      "execution_count": null,
      "outputs": [
        {
          "output_type": "stream",
          "name": "stdout",
          "text": [
            "Fazla Kilolu\n"
          ]
        }
      ]
    }
  ]
}