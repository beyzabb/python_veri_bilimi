{
  "nbformat": 4,
  "nbformat_minor": 0,
  "metadata": {
    "colab": {
      "name": "ders_25042022.ipynb",
      "provenance": [],
      "collapsed_sections": []
    },
    "kernelspec": {
      "name": "python3",
      "display_name": "Python 3"
    },
    "language_info": {
      "name": "python"
    }
  },
  "cells": [
    {
      "cell_type": "markdown",
      "source": [
        "# TUPLE"
      ],
      "metadata": {
        "id": "eHHYe5L8SXrA"
      }
    },
    {
      "cell_type": "code",
      "execution_count": null,
      "metadata": {
        "id": "KxDXtGahSVSF"
      },
      "outputs": [],
      "source": [
        "liste1=[1,2,True,'ali'] #liste\n",
        "tuple1=(1,2,True,'ali') #tuple\n",
        "tuple2=() #boş tuple tanımlamak tavsiye edilmez"
      ]
    },
    {
      "cell_type": "code",
      "source": [
        "mytuple=1.2,4,\"hello\"\n",
        "print(mytuple)\n",
        "type(mytuple)"
      ],
      "metadata": {
        "colab": {
          "base_uri": "https://localhost:8080/"
        },
        "id": "g0r993jjSjYg",
        "outputId": "63742929-43ad-4c57-c43a-88ca5c62dad8"
      },
      "execution_count": null,
      "outputs": [
        {
          "output_type": "stream",
          "name": "stdout",
          "text": [
            "(1.2, 4, 'hello')\n"
          ]
        },
        {
          "output_type": "execute_result",
          "data": {
            "text/plain": [
              "tuple"
            ]
          },
          "metadata": {},
          "execution_count": 3
        }
      ]
    },
    {
      "cell_type": "markdown",
      "source": [
        "Değerlere erişim, indexler"
      ],
      "metadata": {
        "id": "3F83nhwjGDfy"
      }
    },
    {
      "cell_type": "code",
      "source": [
        "print(mytuple[0]) #ilk değer\n",
        "print(mytuple[-1]) #son değer\n",
        "print(mytuple[1:])"
      ],
      "metadata": {
        "colab": {
          "base_uri": "https://localhost:8080/"
        },
        "id": "kRxiVXqNTRKa",
        "outputId": "7ab0b9dd-4e96-4828-f43f-a15b91c88389"
      },
      "execution_count": null,
      "outputs": [
        {
          "output_type": "stream",
          "name": "stdout",
          "text": [
            "1.2\n",
            "hello\n",
            "(4, 'hello')\n"
          ]
        }
      ]
    },
    {
      "cell_type": "markdown",
      "source": [
        "Değer değişimi"
      ],
      "metadata": {
        "id": "FaCe-XHgGHP1"
      }
    },
    {
      "cell_type": "code",
      "source": [
        "#tuple değerlerini listeye dönüştürerek değiştirilebilir\n",
        "liste2=list(mytuple)\n",
        "liste2[2]=\"Hi\"\n",
        "print(liste2)"
      ],
      "metadata": {
        "colab": {
          "base_uri": "https://localhost:8080/"
        },
        "id": "6ZchSy4nUK24",
        "outputId": "f285d755-cb45-432a-ae65-3924f2a62dea"
      },
      "execution_count": null,
      "outputs": [
        {
          "output_type": "stream",
          "name": "stdout",
          "text": [
            "[1.2, 4, 'Hi']\n"
          ]
        }
      ]
    },
    {
      "cell_type": "code",
      "source": [
        "tuple3=tuple(liste2)\n",
        "print(tuple3)"
      ],
      "metadata": {
        "colab": {
          "base_uri": "https://localhost:8080/"
        },
        "id": "ditmoMwdUiyf",
        "outputId": "2893f95d-8f07-4795-fee0-3a9fb909e872"
      },
      "execution_count": null,
      "outputs": [
        {
          "output_type": "stream",
          "name": "stdout",
          "text": [
            "(1.2, 4, 'Hi')\n"
          ]
        }
      ]
    },
    {
      "cell_type": "markdown",
      "source": [
        "Tuple yapısında + ve * y=(1, 2, 3) + (4, 5, 6)\n",
        "\n",
        "x=(\"Hello\",) * 3 print(type(x)) print(x)"
      ],
      "metadata": {
        "id": "V0aqGYflGKE6"
      }
    },
    {
      "cell_type": "code",
      "source": [
        "y=(1,2,3)+(4,5,6)\n",
        "print(y)\n",
        "\n",
        "x=(\"Hello\",)\n",
        "print(type(x))\n",
        "print(x*3)"
      ],
      "metadata": {
        "colab": {
          "base_uri": "https://localhost:8080/"
        },
        "id": "s4J0J4PEUxsg",
        "outputId": "401036a8-510b-45b7-8a53-809689a72355"
      },
      "execution_count": null,
      "outputs": [
        {
          "output_type": "stream",
          "name": "stdout",
          "text": [
            "(1, 2, 3, 4, 5, 6)\n",
            "<class 'tuple'>\n",
            "('Hello', 'Hello', 'Hello')\n"
          ]
        }
      ]
    },
    {
      "cell_type": "code",
      "source": [
        "#Tuple indeks değerleri silinemez ama tuplenin tamamı silinebilir\n",
        "del(x)"
      ],
      "metadata": {
        "id": "-fGslUh0VWqg"
      },
      "execution_count": null,
      "outputs": []
    },
    {
      "cell_type": "code",
      "source": [
        "liste3=[\"a\",\"b\",54]\n",
        "if 54 in liste3:\n",
        "  print(\"Var\")\n",
        "\n",
        "tuple4=(\"a\",\"b\",54)\n",
        "if 54 in tuple4:\n",
        "  print(\"Var\")"
      ],
      "metadata": {
        "colab": {
          "base_uri": "https://localhost:8080/"
        },
        "id": "x_EFh9K1VgH3",
        "outputId": "41ab81a4-8123-46da-9a8c-0c8a06cf55c0"
      },
      "execution_count": null,
      "outputs": [
        {
          "output_type": "stream",
          "name": "stdout",
          "text": [
            "Var\n",
            "Var\n"
          ]
        }
      ]
    },
    {
      "cell_type": "code",
      "source": [
        "tuple5=(\"a\",\"b\",1.2,45,True)\n",
        "print(len(tuple5))\n",
        "print(tuple5.count(\"a\"))\n",
        "print(tuple5.index(True))"
      ],
      "metadata": {
        "colab": {
          "base_uri": "https://localhost:8080/"
        },
        "id": "5mq8GLnPWS5Z",
        "outputId": "9df5961f-a4d6-4895-a63e-e65404e700cb"
      },
      "execution_count": null,
      "outputs": [
        {
          "output_type": "stream",
          "name": "stdout",
          "text": [
            "5\n",
            "1\n",
            "4\n"
          ]
        }
      ]
    },
    {
      "cell_type": "code",
      "source": [
        "tuple6=(1,5,6,9,2,3)\n",
        "print(sorted(tuple6))"
      ],
      "metadata": {
        "colab": {
          "base_uri": "https://localhost:8080/"
        },
        "id": "HyQjz06iWoGI",
        "outputId": "1dd3a5ee-8805-4de0-e83a-7831a1a7486c"
      },
      "execution_count": null,
      "outputs": [
        {
          "output_type": "stream",
          "name": "stdout",
          "text": [
            "[1, 2, 3, 5, 6, 9]\n"
          ]
        }
      ]
    },
    {
      "cell_type": "markdown",
      "source": [
        "fruits = (\"apple\", \"banana\", \"cherry\")\n",
        "\n",
        "(green, yellow, red) = fruits\n",
        "\n",
        "print(green) print(yellow) print(red)"
      ],
      "metadata": {
        "id": "j-4-91RmGRP9"
      }
    },
    {
      "cell_type": "code",
      "source": [
        "fruits=(\"apple\",\"banana\",\"cherry\")\n",
        "(green,yellow,red)=fruits\n",
        "print(green) #tek değere tek değer atama\n",
        "\n",
        "fruits=(\"apple\",\"banana\",\"cherry\")\n",
        "(green,*yellow)=fruits\n",
        "print(yellow) #tek değere birden çok değer atama"
      ],
      "metadata": {
        "colab": {
          "base_uri": "https://localhost:8080/"
        },
        "id": "smeYqqWFW6jH",
        "outputId": "fb446b4f-5cee-482b-c066-e28eb4a1285f"
      },
      "execution_count": null,
      "outputs": [
        {
          "output_type": "stream",
          "name": "stdout",
          "text": [
            "apple\n",
            "['banana', 'cherry']\n"
          ]
        }
      ]
    },
    {
      "cell_type": "code",
      "source": [
        "aTuple=(100,200,(300,400),500) #iç içe tuple kullanımı\n",
        "print(aTuple[2][1])"
      ],
      "metadata": {
        "colab": {
          "base_uri": "https://localhost:8080/"
        },
        "id": "2kMKzN-XYiMb",
        "outputId": "7d69a669-d547-4392-c81e-0fb5f20ba60c"
      },
      "execution_count": null,
      "outputs": [
        {
          "output_type": "stream",
          "name": "stdout",
          "text": [
            "400\n"
          ]
        }
      ]
    },
    {
      "cell_type": "code",
      "source": [
        "for i in aTuple:\n",
        "  print(i)"
      ],
      "metadata": {
        "colab": {
          "base_uri": "https://localhost:8080/"
        },
        "id": "TzYVm2skY-8_",
        "outputId": "21541c1c-98ca-47bb-cad0-0305ccec99f5"
      },
      "execution_count": null,
      "outputs": [
        {
          "output_type": "stream",
          "name": "stdout",
          "text": [
            "100\n",
            "200\n",
            "(300, 400)\n",
            "500\n"
          ]
        }
      ]
    },
    {
      "cell_type": "markdown",
      "source": [
        "Rastgele bir metinden dictionary oluşturup tek sayılara karşılık 1, çift sayılara karşılık 2 yazdıran program"
      ],
      "metadata": {
        "id": "z8D8vxpdFvrD"
      }
    },
    {
      "cell_type": "code",
      "source": [
        "metin=\"kjdgagğÖGRBLDAFSMALDSömskfmdlskfm\"\n",
        "metin1 =\"\"\n",
        "for i in metin:\n",
        "  if i.islower():\n",
        "    metin1 += i.upper()\n",
        "  else:\n",
        "    metin1 += i.lower()\n",
        "dict9={(i+1):str(metin1[i]) for i in range(0, len(metin1))}\n",
        "print(dict9)"
      ],
      "metadata": {
        "colab": {
          "base_uri": "https://localhost:8080/"
        },
        "id": "8dFEgwwJFuoH",
        "outputId": "b3335a17-482d-411d-cb4c-2df8920862f0"
      },
      "execution_count": 2,
      "outputs": [
        {
          "output_type": "stream",
          "name": "stdout",
          "text": [
            "{1: 'K', 2: 'J', 3: 'D', 4: 'G', 5: 'A', 6: 'G', 7: 'Ğ', 8: 'ö', 9: 'g', 10: 'r', 11: 'b', 12: 'l', 13: 'd', 14: 'a', 15: 'f', 16: 's', 17: 'm', 18: 'a', 19: 'l', 20: 'd', 21: 's', 22: 'Ö', 23: 'M', 24: 'S', 25: 'K', 26: 'F', 27: 'M', 28: 'D', 29: 'L', 30: 'S', 31: 'K', 32: 'F', 33: 'M'}\n"
          ]
        }
      ]
    },
    {
      "cell_type": "code",
      "source": [
        "# Dictionary Comprehension\n",
        "squares = {x:i for x in range(1,16) }\n",
        "for i in squares:\n",
        "  if i % 2 == 0: \n",
        "    squares.update({i: 2})\n",
        "  else:\n",
        "    squares.update({i: 1})\n",
        "\n",
        "print(squares)"
      ],
      "metadata": {
        "colab": {
          "base_uri": "https://localhost:8080/"
        },
        "id": "QTtttJjWF6_E",
        "outputId": "043039ab-a338-4fd4-a54f-c9493ef15206"
      },
      "execution_count": 3,
      "outputs": [
        {
          "output_type": "stream",
          "name": "stdout",
          "text": [
            "{1: 1, 2: 2, 3: 1, 4: 2, 5: 1, 6: 2, 7: 1, 8: 2, 9: 1, 10: 2, 11: 1, 12: 2, 13: 1, 14: 2, 15: 1}\n"
          ]
        }
      ]
    },
    {
      "cell_type": "markdown",
      "source": [
        "# SET"
      ],
      "metadata": {
        "id": "xiK3x8UbZUn3"
      }
    },
    {
      "cell_type": "markdown",
      "source": [
        "Tanımlama, değer atama"
      ],
      "metadata": {
        "id": "aT09GVCaGXLW"
      }
    },
    {
      "cell_type": "code",
      "source": [
        "a={5,3,4}\n",
        "b={}\n",
        "print(a)\n",
        "\n",
        "a={5,3,4,5}\n",
        "print(a)\n",
        "print(len(a))"
      ],
      "metadata": {
        "colab": {
          "base_uri": "https://localhost:8080/"
        },
        "id": "QQ5OczwhZkLs",
        "outputId": "ee18f7a5-291f-4364-a927-b8414ae6b50e"
      },
      "execution_count": null,
      "outputs": [
        {
          "output_type": "stream",
          "name": "stdout",
          "text": [
            "{3, 4, 5}\n",
            "{3, 4, 5}\n",
            "3\n"
          ]
        }
      ]
    },
    {
      "cell_type": "markdown",
      "source": [
        "add(), update(), remove(), discard(), clear(), del()"
      ],
      "metadata": {
        "id": "5d_eetJEGWnM"
      }
    },
    {
      "cell_type": "code",
      "source": [
        "a.add(\"A\")\n",
        "print(a)\n",
        "\n",
        "a.update(\"abc\")\n",
        "a.update([\"abc\"]) \n",
        "print(a)"
      ],
      "metadata": {
        "colab": {
          "base_uri": "https://localhost:8080/"
        },
        "id": "X6oVw9PXZyV1",
        "outputId": "6c6ee5f1-9a0e-46d0-c0d4-5242d1860169"
      },
      "execution_count": null,
      "outputs": [
        {
          "output_type": "stream",
          "name": "stdout",
          "text": [
            "{'A', 3, 4, 5}\n",
            "{3, 4, 5, 'c', 'abc', 'A', 'a', 'b'}\n"
          ]
        }
      ]
    },
    {
      "cell_type": "code",
      "source": [
        "a.remove(\"abc\")\n",
        "print(a)\n",
        "\n",
        "a.discard(\"a\")\n",
        "print(a)"
      ],
      "metadata": {
        "colab": {
          "base_uri": "https://localhost:8080/"
        },
        "id": "lnl4uOPeaxqP",
        "outputId": "2104805a-8bc8-48b3-94e5-6f13cc751281"
      },
      "execution_count": null,
      "outputs": [
        {
          "output_type": "stream",
          "name": "stdout",
          "text": [
            "{3, 4, 5, 'c', 'A', 'a', 'b'}\n",
            "{3, 4, 5, 'c', 'A', 'b'}\n"
          ]
        }
      ]
    },
    {
      "cell_type": "code",
      "source": [
        "c={\"b\",\"r\",\"y\"}\n",
        "c.clear()\n",
        "print(c)"
      ],
      "metadata": {
        "colab": {
          "base_uri": "https://localhost:8080/"
        },
        "id": "5to29J9ZbKU3",
        "outputId": "4f647c98-999f-4c21-f665-f70f9cb5c0ae"
      },
      "execution_count": null,
      "outputs": [
        {
          "output_type": "stream",
          "name": "stdout",
          "text": [
            "set()\n"
          ]
        }
      ]
    },
    {
      "cell_type": "markdown",
      "source": [
        "copy(), id()"
      ],
      "metadata": {
        "id": "9EjW2ZTuGfZG"
      }
    },
    {
      "cell_type": "code",
      "source": [
        "b=a.copy()\n",
        "b"
      ],
      "metadata": {
        "colab": {
          "base_uri": "https://localhost:8080/"
        },
        "id": "8gnFIXkNGgF2",
        "outputId": "69f42406-f792-4bca-d587-13ae8c72145e"
      },
      "execution_count": null,
      "outputs": [
        {
          "output_type": "execute_result",
          "data": {
            "text/plain": [
              "{3, 4, 5, 'A', 'b', 'c'}"
            ]
          },
          "metadata": {},
          "execution_count": 5
        }
      ]
    },
    {
      "cell_type": "code",
      "source": [
        "b.clear()\n",
        "print(b)\n",
        "print(a)"
      ],
      "metadata": {
        "colab": {
          "base_uri": "https://localhost:8080/"
        },
        "id": "SgAW8s1tGoZo",
        "outputId": "d6ea1cf7-0142-4561-88bd-b150c2e69518"
      },
      "execution_count": null,
      "outputs": [
        {
          "output_type": "stream",
          "name": "stdout",
          "text": [
            "set()\n",
            "{3, 4, 5, 'c', 'A', 'b'}\n"
          ]
        }
      ]
    },
    {
      "cell_type": "markdown",
      "source": [
        "sum, min, max, len"
      ],
      "metadata": {
        "id": "bHhznaifGsJK"
      }
    },
    {
      "cell_type": "code",
      "source": [
        "a=(5,4,3,2)\n",
        "print(sum(a))\n",
        "print(min(a))\n",
        "print(max(a))"
      ],
      "metadata": {
        "colab": {
          "base_uri": "https://localhost:8080/"
        },
        "id": "EplfV7B-bpXa",
        "outputId": "0630d781-2531-452b-cb51-144fcdabbb74"
      },
      "execution_count": null,
      "outputs": [
        {
          "output_type": "stream",
          "name": "stdout",
          "text": [
            "14\n",
            "2\n",
            "5\n"
          ]
        }
      ]
    },
    {
      "cell_type": "code",
      "source": [
        "kume={(\"a\",3,4),5,\"c\",(\"s\",\"d\",\"b\")}"
      ],
      "metadata": {
        "id": "GgGdt13RbxbR"
      },
      "execution_count": null,
      "outputs": []
    },
    {
      "cell_type": "markdown",
      "source": [
        "Birleşim (union) |, Kesişim (intersection) & , difference -, issubset, issuperset, isdisjoint()"
      ],
      "metadata": {
        "id": "CfEqxuIGGubT"
      }
    },
    {
      "cell_type": "code",
      "source": [
        "A={1,2,3,4,5}\n",
        "B={4,5,6,7,8}\n",
        "print(A.union(B)) #A birleşim B = A|B\n",
        "print(A.intersection(B)) #A kesişim B = A&B\n",
        "print(A.difference(B)) #A fark B = A-B\n",
        "print(A.symmetric_difference(B)) # = A^B"
      ],
      "metadata": {
        "colab": {
          "base_uri": "https://localhost:8080/"
        },
        "id": "CKcCJxv_eJjh",
        "outputId": "2c5b0123-080f-45b4-b397-c4a0194fcd50"
      },
      "execution_count": null,
      "outputs": [
        {
          "output_type": "stream",
          "name": "stdout",
          "text": [
            "{1, 2, 3, 4, 5, 6, 7, 8}\n",
            "{4, 5}\n",
            "{1, 2, 3}\n"
          ]
        }
      ]
    },
    {
      "cell_type": "code",
      "source": [
        "C={6,7,8}\n",
        "print(C.issubset(B)) #C B'nin alt kümesi mi?\n",
        "\n",
        "print(B.issuperset(C)) #B C'yi kapsar mı?\n",
        "print(A.isdisjoint(C)) #ortak eleman var mı?"
      ],
      "metadata": {
        "colab": {
          "base_uri": "https://localhost:8080/"
        },
        "id": "nNnkyN-3fmNC",
        "outputId": "46f681ef-35cf-4da1-b751-c3640cefd417"
      },
      "execution_count": null,
      "outputs": [
        {
          "output_type": "stream",
          "name": "stdout",
          "text": [
            "True\n",
            "True\n",
            "True\n"
          ]
        }
      ]
    },
    {
      "cell_type": "markdown",
      "source": [
        "# DICTIONARY"
      ],
      "metadata": {
        "id": "OoFwneupgmRC"
      }
    },
    {
      "cell_type": "markdown",
      "source": [
        "Tanımlama\n",
        "# empty dictionary\n",
        "my_dict = {}\n",
        "\n",
        "# dictionary with integer keys\n",
        "my_dict = {1: 'apple', 2: 'ball'}\n",
        "\n",
        "# dictionary with mixed keys\n",
        "my_dict = {'name': 'John', 'not': [2, 4, 3]}\n",
        "\n",
        "# using dict()\n",
        "my_dict = dict({1:'apple', 2:'ball'})\n",
        "\n",
        "# from sequence having each item as a pair\n",
        "my_dict = dict([(1,'apple'), (2,'ball')])"
      ],
      "metadata": {
        "id": "LgATmU8NG5EI"
      }
    },
    {
      "cell_type": "code",
      "source": [
        "dict1={'key1':'value1','key2':'value2'}\n",
        "dictOgr={'OgrenciBilgileri': {'ad':'Elif','soyad':'Yılmaz','no':'123','Sınav':[45,78]}}\n",
        "\n",
        "print(dict1['key1'])\n",
        "print(dict1.get('key2'))\n",
        "\n",
        "print(dictOgr['OgrenciBilgileri']['soyad'])"
      ],
      "metadata": {
        "colab": {
          "base_uri": "https://localhost:8080/"
        },
        "id": "x8tK9c5bgrpI",
        "outputId": "9c4cdcdf-0afb-4e64-dfbc-249cfea555dc"
      },
      "execution_count": null,
      "outputs": [
        {
          "output_type": "stream",
          "name": "stdout",
          "text": [
            "value1\n",
            "value2\n",
            "Yılmaz\n"
          ]
        }
      ]
    },
    {
      "cell_type": "markdown",
      "source": [
        "Elemanlaraerişim\n",
        "\n",
        "print(my_dict['name'])\n",
        "\n",
        "print(my_dict.get('age'))"
      ],
      "metadata": {
        "id": "DwX-51I4G9Hb"
      }
    },
    {
      "cell_type": "code",
      "source": [
        "print(len(dict1))\n",
        "print(len(dictOgr['OgrenciBilgileri']))\n",
        "print(dictOgr['OgrenciBilgileri']['Sınav'][1])"
      ],
      "metadata": {
        "colab": {
          "base_uri": "https://localhost:8080/"
        },
        "id": "QQfOXLxCj8dq",
        "outputId": "54d0b169-9c6a-4baf-9f57-df1bd5d7fdcb"
      },
      "execution_count": null,
      "outputs": [
        {
          "output_type": "stream",
          "name": "stdout",
          "text": [
            "2\n",
            "4\n",
            "78\n"
          ]
        }
      ]
    },
    {
      "cell_type": "code",
      "source": [
        "dict2={'isim':'Samet'}\n",
        "dict3=dict2\n",
        "dict4=dict2.copy()"
      ],
      "metadata": {
        "id": "xtJyeyqpwrUZ"
      },
      "execution_count": null,
      "outputs": []
    },
    {
      "cell_type": "code",
      "source": [
        "print(id(dict2))\n",
        "print(id(dict3))\n",
        "print(id(dict4))"
      ],
      "metadata": {
        "colab": {
          "base_uri": "https://localhost:8080/"
        },
        "id": "9sXwEYl0w4lX",
        "outputId": "9150054b-5fa4-4117-84be-7f982a8bd054"
      },
      "execution_count": null,
      "outputs": [
        {
          "output_type": "stream",
          "name": "stdout",
          "text": [
            "140270588797888\n",
            "140270588797888\n",
            "140270652982528\n"
          ]
        }
      ]
    },
    {
      "cell_type": "code",
      "source": [
        "dict3['isim']='Seda'\n",
        "print(dict3)\n",
        "print(dict2)\n",
        "print(dict4)"
      ],
      "metadata": {
        "colab": {
          "base_uri": "https://localhost:8080/"
        },
        "id": "Xj07_h03xGRY",
        "outputId": "d93e121f-2d5f-4f6f-96b6-7be0399c2edc"
      },
      "execution_count": null,
      "outputs": [
        {
          "output_type": "stream",
          "name": "stdout",
          "text": [
            "{'isim': 'Seda'}\n",
            "{'isim': 'Seda'}\n",
            "{'isim': 'Samet'}\n"
          ]
        }
      ]
    },
    {
      "cell_type": "markdown",
      "source": [
        "items, keys, len, pop, popitem, clear, del"
      ],
      "metadata": {
        "id": "WLrk0mKEHCKN"
      }
    },
    {
      "cell_type": "code",
      "source": [
        "dict5={'ad':'Elif','soyad':'Yılmaz','no':'123','Vize':45,'Final':78}\n",
        "for i in dict5: \n",
        "  print(i) #key\n",
        "  print(i,\" \",dict5[i]) #key ve value"
      ],
      "metadata": {
        "colab": {
          "base_uri": "https://localhost:8080/"
        },
        "id": "DDXnBnWBxjhv",
        "outputId": "4c64ffd7-1d09-49a8-b6b1-a5f012f61131"
      },
      "execution_count": null,
      "outputs": [
        {
          "output_type": "stream",
          "name": "stdout",
          "text": [
            "ad\n",
            "ad   Elif\n",
            "soyad\n",
            "soyad   Yılmaz\n",
            "no\n",
            "no   123\n",
            "Vize\n",
            "Vize   45\n",
            "Final\n",
            "Final   78\n"
          ]
        }
      ]
    },
    {
      "cell_type": "code",
      "source": [
        "dict5.pop('Final')\n",
        "print(dict5)\n",
        "\n",
        "dict5.popitem()\n",
        "print(dict5)\n",
        "\n",
        "dict6={'ad':'leyla'}\n",
        "dict7={'ad':'leyla'}\n",
        "\n",
        "del(dict6)\n",
        "\n",
        "dict7.clear()\n",
        "print(dict7)"
      ],
      "metadata": {
        "colab": {
          "base_uri": "https://localhost:8080/"
        },
        "id": "fI9Ez7-ayeiv",
        "outputId": "cc8deb71-4bfa-4919-c54e-0c74276b1574"
      },
      "execution_count": null,
      "outputs": [
        {
          "output_type": "stream",
          "name": "stdout",
          "text": [
            "{'ad': 'Elif', 'soyad': 'Yılmaz', 'no': '123', 'Vize': 45}\n",
            "{'ad': 'Elif', 'soyad': 'Yılmaz', 'no': '123'}\n",
            "{}\n"
          ]
        }
      ]
    },
    {
      "cell_type": "markdown",
      "source": [
        "dict4={1:'k', 2:'j', 3:'d',.......}"
      ],
      "metadata": {
        "id": "IYXUnKHWHG9h"
      }
    },
    {
      "cell_type": "code",
      "source": [
        "squares = {}\n",
        "for x in range(6):\n",
        "    squares[x] = x*x\n",
        "print(squares)"
      ],
      "metadata": {
        "colab": {
          "base_uri": "https://localhost:8080/"
        },
        "id": "KxNIurOQHKHz",
        "outputId": "03d98edb-6318-422f-dcd0-4fd5a11593ff"
      },
      "execution_count": null,
      "outputs": [
        {
          "output_type": "stream",
          "name": "stdout",
          "text": [
            "{0: 0, 1: 1, 2: 4, 3: 9, 4: 16, 5: 25}\n"
          ]
        }
      ]
    },
    {
      "cell_type": "code",
      "source": [
        "squares[10]='değer0'"
      ],
      "metadata": {
        "id": "3HFKfEscHLKc"
      },
      "execution_count": null,
      "outputs": []
    },
    {
      "cell_type": "code",
      "source": [
        "print(squares)"
      ],
      "metadata": {
        "colab": {
          "base_uri": "https://localhost:8080/"
        },
        "id": "7qKuU3hLHM_0",
        "outputId": "5df56298-81e4-4eb3-c77b-2aec70a14f0e"
      },
      "execution_count": null,
      "outputs": [
        {
          "output_type": "stream",
          "name": "stdout",
          "text": [
            "{0: 0, 1: 1, 2: 4, 3: 9, 4: 16, 5: 25, 10: 'değer0'}\n"
          ]
        }
      ]
    },
    {
      "cell_type": "code",
      "source": [
        "metin=\"kjdgagğÖGRBLDAFSMALDSömskfmdlskfm\"\n",
        "dict9={(i+1):str(metin[i]) for i in range(0, len(metin))}\n",
        "print(dict9)"
      ],
      "metadata": {
        "colab": {
          "base_uri": "https://localhost:8080/"
        },
        "id": "yMYsEoHPHR2Y",
        "outputId": "b995b4f1-234b-4d29-f0de-dc091c515d0c"
      },
      "execution_count": null,
      "outputs": [
        {
          "output_type": "stream",
          "name": "stdout",
          "text": [
            "{1: 'k', 2: 'j', 3: 'd', 4: 'g', 5: 'a', 6: 'g', 7: 'ğ', 8: 'Ö', 9: 'G', 10: 'R', 11: 'B', 12: 'L', 13: 'D', 14: 'A', 15: 'F', 16: 'S', 17: 'M', 18: 'A', 19: 'L', 20: 'D', 21: 'S', 22: 'ö', 23: 'm', 24: 's', 25: 'k', 26: 'f', 27: 'm', 28: 'd', 29: 'l', 30: 's', 31: 'k', 32: 'f', 33: 'm'}\n"
          ]
        }
      ]
    },
    {
      "cell_type": "code",
      "source": [
        "# Dictionary Comprehension\n",
        "squares = {x: 1 for x in range(16)}\n",
        "\n",
        "print(squares)"
      ],
      "metadata": {
        "colab": {
          "base_uri": "https://localhost:8080/"
        },
        "id": "_zn4otHXHT6c",
        "outputId": "8a925f01-bc59-4390-922f-ca979526821a"
      },
      "execution_count": null,
      "outputs": [
        {
          "output_type": "stream",
          "name": "stdout",
          "text": [
            "{0: 1, 1: 1, 2: 1, 3: 1, 4: 1, 5: 1, 6: 1, 7: 1, 8: 1, 9: 1, 10: 1, 11: 1, 12: 1, 13: 1, 14: 1, 15: 1}\n"
          ]
        }
      ]
    },
    {
      "cell_type": "code",
      "source": [
        "dict8={i:str(i) for i in range(1,11)}\n",
        "print(dict8)"
      ],
      "metadata": {
        "colab": {
          "base_uri": "https://localhost:8080/"
        },
        "id": "oP7IPAhgzid_",
        "outputId": "bd9de893-7441-4a5d-d0d9-f7d3f0022f65"
      },
      "execution_count": null,
      "outputs": [
        {
          "output_type": "stream",
          "name": "stdout",
          "text": [
            "{1: '1', 2: '2', 3: '3', 4: '4', 5: '5', 6: '6', 7: '7', 8: '8', 9: '9', 10: '10'}\n"
          ]
        }
      ]
    },
    {
      "cell_type": "code",
      "source": [
        "metin=\"jfskjKDWHNJASDSANDKNSKDNKLASdsfgfdsfghstrdhdsfds\"\n",
        "dict9={i:str(metin[i]) for i in range(0,len(metin))}\n",
        "print(dict9)\n"
      ],
      "metadata": {
        "colab": {
          "base_uri": "https://localhost:8080/"
        },
        "id": "2c4q4IX00grZ",
        "outputId": "a05a4933-7178-4464-ddcc-86b1d2c2a79d"
      },
      "execution_count": null,
      "outputs": [
        {
          "output_type": "stream",
          "name": "stdout",
          "text": [
            "{0: 'j', 1: 'f', 2: 's', 3: 'k', 4: 'j', 5: 'K', 6: 'D', 7: 'W', 8: 'H', 9: 'N', 10: 'J', 11: 'A', 12: 'S', 13: 'D', 14: 'S', 15: 'A', 16: 'N', 17: 'D', 18: 'K', 19: 'N', 20: 'S', 21: 'K', 22: 'D', 23: 'N', 24: 'K', 25: 'L', 26: 'A', 27: 'S', 28: 'd', 29: 's', 30: 'f', 31: 'g', 32: 'f', 33: 'd', 34: 's', 35: 'f', 36: 'g', 37: 'h', 38: 's', 39: 't', 40: 'r', 41: 'd', 42: 'h', 43: 'd', 44: 's', 45: 'f', 46: 'd', 47: 's'}\n"
          ]
        }
      ]
    },
    {
      "cell_type": "code",
      "source": [
        "dict10={i:str(metin[i]) for i in range(0,len(metin)) if metin[i].isupper==True metin[i].lower()}"
      ],
      "metadata": {
        "id": "hsDxkhhw1aNg"
      },
      "execution_count": null,
      "outputs": []
    },
    {
      "cell_type": "code",
      "source": [
        "squares={}\n",
        "for x in range(6):\n",
        "  squares[x]=x*x\n",
        "print(squares)\n",
        "\n",
        "squares[10]='deger0'\n",
        "print(squares)"
      ],
      "metadata": {
        "colab": {
          "base_uri": "https://localhost:8080/"
        },
        "id": "1XnHH8iQ27Yf",
        "outputId": "521d87c8-8d83-4fde-d2e8-e6d6b0bfde07"
      },
      "execution_count": null,
      "outputs": [
        {
          "output_type": "stream",
          "name": "stdout",
          "text": [
            "{0: 0, 1: 1, 2: 4, 3: 9, 4: 16, 5: 25}\n",
            "{0: 0, 1: 1, 2: 4, 3: 9, 4: 16, 5: 25, 10: 'deger0'}\n"
          ]
        }
      ]
    },
    {
      "cell_type": "code",
      "source": [
        "squares={x}"
      ],
      "metadata": {
        "id": "so-d4AlS3gHG"
      },
      "execution_count": null,
      "outputs": []
    }
  ]
}