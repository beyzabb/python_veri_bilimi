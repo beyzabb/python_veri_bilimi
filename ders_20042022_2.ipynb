{
  "nbformat": 4,
  "nbformat_minor": 0,
  "metadata": {
    "colab": {
      "name": "ders_20042022_2.ipynb",
      "provenance": [],
      "collapsed_sections": []
    },
    "kernelspec": {
      "name": "python3",
      "display_name": "Python 3"
    },
    "language_info": {
      "name": "python"
    }
  },
  "cells": [
    {
      "cell_type": "markdown",
      "source": [
        "List, Tuple, Set ve Dictionary :\n",
        "\n",
        "\n",
        "*   List, elemanları sıralanabilir, güncellenebilir ayrıca her bir eleman liste içerisinde birden fazla tekrarlanabilir.\n",
        "*   Tuple, elemanları sıralanabilir ancak güncellenemez ve her bir eleman liste içerisinde birden fazla tekrarlanabilir.\n",
        "\n",
        "*   Set, elemanları sıralanamaz ve indekslenemez ayrıca her bir eleman liste içerisinde sadece bir tane olabilir.\n",
        "*   Dictionary, key ve value şeklinde değer alırlar. Aynı key bilgisiyle birden fazla eleman olamaz.\n"
      ],
      "metadata": {
        "id": "HQlg-M1wUyza"
      }
    },
    {
      "cell_type": "markdown",
      "source": [
        "• Liste (List) tanımlama işlemi\n",
        "\n",
        "degiskenAdi= [deger1, deger2,...]\n"
      ],
      "metadata": {
        "id": "K2w-dm2GVCQC"
      }
    },
    {
      "cell_type": "markdown",
      "source": [
        "Alınan notların not ortalamasına göre listedeki kişilerin geçtiğini veya kaldığını gösteren program"
      ],
      "metadata": {
        "id": "SaK2CbQTT7Ve"
      }
    },
    {
      "cell_type": "code",
      "execution_count": 4,
      "metadata": {
        "colab": {
          "base_uri": "https://localhost:8080/"
        },
        "id": "sPQFaUr6x5Kd",
        "outputId": "a8ad521c-29f7-498c-8081-ad99ee96e7a0"
      },
      "outputs": [
        {
          "output_type": "stream",
          "name": "stdout",
          "text": [
            "kaldi Merve\n",
            "kaldi Beyza\n",
            "kaldi Mirza\n"
          ]
        }
      ],
      "source": [
        "isimler=['Merve','Beyza','Mirza']\n",
        "vizeler=[95,85,75]\n",
        "finaller=[45,36,13]\n",
        "for i in range(0,len(isimler)):\n",
        "  hesap=(vizeler[i]*0.6)+(finaller[i]*0.4)\n",
        "  if hesap/2>85:\n",
        "    print('Geçti',isimler[i])\n",
        "  else:\n",
        "    print('kaldi',isimler[i])"
      ]
    },
    {
      "cell_type": "markdown",
      "source": [
        "Liste sonuna Ekleme\n",
        "\n",
        "list1=[‘deger1’, ‘deger2’, ‘deger3’ ]\n",
        "\n",
        "list1.append(‘deger4’)\n"
      ],
      "metadata": {
        "id": "9tlh6WtXVNEU"
      }
    },
    {
      "cell_type": "code",
      "source": [
        "isimler.append('Kazım') #sonuna ekler\n",
        "print(isimler)"
      ],
      "metadata": {
        "colab": {
          "base_uri": "https://localhost:8080/"
        },
        "id": "0A8Yz2PA0MPb",
        "outputId": "7080bd4a-80c0-495c-fc91-91b536ea9fda"
      },
      "execution_count": 5,
      "outputs": [
        {
          "output_type": "stream",
          "name": "stdout",
          "text": [
            "['Merve', 'Beyza', 'Mirza', 'Kazım']\n"
          ]
        }
      ]
    },
    {
      "cell_type": "markdown",
      "source": [
        "Liste Güncelleme\n",
        "\n",
        "list1=[‘deger1’, ‘deger2’, ‘deger3’ ]\n",
        "\n",
        "list1[0]=‘deger0’\n"
      ],
      "metadata": {
        "id": "P7nsbhfFVHj0"
      }
    },
    {
      "cell_type": "markdown",
      "source": [
        "Liste farklı index alanlarına Ekleme\n",
        "\n",
        "list1=[‘deger1’, ‘deger2’, ‘deger3’ ]\n",
        "\n",
        "list1.insert(0, ‘deger4’)"
      ],
      "metadata": {
        "id": "fX4QMO_kVUeU"
      }
    },
    {
      "cell_type": "code",
      "source": [
        "isimler.insert(0,'Cemre') #belirli indekse ekler\n",
        "print(isimler)"
      ],
      "metadata": {
        "colab": {
          "base_uri": "https://localhost:8080/"
        },
        "id": "_pGNh3_V9Qto",
        "outputId": "72d2fbf4-43ea-44ea-8acb-152511ee3bf5"
      },
      "execution_count": 6,
      "outputs": [
        {
          "output_type": "stream",
          "name": "stdout",
          "text": [
            "['Cemre', 'Merve', 'Beyza', 'Mirza', 'Kazım']\n"
          ]
        }
      ]
    },
    {
      "cell_type": "markdown",
      "source": [
        "Belirli indexten silme\n",
        "\n",
        "list1=[‘deger1’, ‘deger2’, ‘deger3’ ]\n",
        "\n",
        "del(list1[0])\n"
      ],
      "metadata": {
        "id": "yKiryzBMVbCt"
      }
    },
    {
      "cell_type": "code",
      "source": [
        "del(isimler[1]) #listenin belirli indeksteki değerini siler\n",
        "print(isimler)"
      ],
      "metadata": {
        "colab": {
          "base_uri": "https://localhost:8080/"
        },
        "id": "gwEoG6er9SO3",
        "outputId": "fe0f292b-f360-4dc2-bffc-cea83cb3e9b7"
      },
      "execution_count": 7,
      "outputs": [
        {
          "output_type": "stream",
          "name": "stdout",
          "text": [
            "['Cemre', 'Beyza', 'Mirza', 'Kazım']\n"
          ]
        }
      ]
    },
    {
      "cell_type": "code",
      "source": [
        "list1=[1,3,5,2,9,0]\n",
        "list1.sort()\n",
        "print(list1) #listenin aslını değiştirerek sıralama yapar\n",
        "\n",
        "print(sorted(finaller)) #listenin aslını değiştirmeden sıralama yapar "
      ],
      "metadata": {
        "colab": {
          "base_uri": "https://localhost:8080/"
        },
        "id": "9CWB8O33_Shn",
        "outputId": "9550d823-3a8c-4848-b59b-fe1b0cd93d79"
      },
      "execution_count": 8,
      "outputs": [
        {
          "output_type": "stream",
          "name": "stdout",
          "text": [
            "[0, 1, 2, 3, 5, 9]\n",
            "[13, 36, 45]\n"
          ]
        }
      ]
    },
    {
      "cell_type": "code",
      "source": [
        "vizeNotlari=[12,56,89,45,30] #büyükten küçüğe doğru sıralama yapar\n",
        "vizeNotlari.sort(reverse=True)\n",
        "print(vizeNotlari)"
      ],
      "metadata": {
        "colab": {
          "base_uri": "https://localhost:8080/"
        },
        "id": "TnyepeZYAs0O",
        "outputId": "b87d2caf-5f07-44cb-bd83-f4eef6c293df"
      },
      "execution_count": 9,
      "outputs": [
        {
          "output_type": "stream",
          "name": "stdout",
          "text": [
            "[89, 56, 45, 30, 12]\n"
          ]
        }
      ]
    },
    {
      "cell_type": "code",
      "source": [
        "len(vizeNotlari)"
      ],
      "metadata": {
        "colab": {
          "base_uri": "https://localhost:8080/"
        },
        "id": "uqP_vfmCBwrX",
        "outputId": "aa9a4eb5-5e13-499d-f912-affc9b346ad7"
      },
      "execution_count": 10,
      "outputs": [
        {
          "output_type": "execute_result",
          "data": {
            "text/plain": [
              "5"
            ]
          },
          "metadata": {},
          "execution_count": 10
        }
      ]
    },
    {
      "cell_type": "code",
      "source": [
        "numbers=list(range(2,11)) #int(),str(),float() gibi list() listeye çevirme işlemini yapar\n",
        "print(numbers)"
      ],
      "metadata": {
        "colab": {
          "base_uri": "https://localhost:8080/"
        },
        "id": "MLFayDXuCLzQ",
        "outputId": "0723e2d3-42e4-46e5-a48b-65dbfc1dfe8c"
      },
      "execution_count": 11,
      "outputs": [
        {
          "output_type": "stream",
          "name": "stdout",
          "text": [
            "[2, 3, 4, 5, 6, 7, 8, 9, 10]\n"
          ]
        }
      ]
    },
    {
      "cell_type": "code",
      "source": [
        "print(min(numbers)) \n",
        "print(max(numbers))\n",
        "print(sum(numbers))"
      ],
      "metadata": {
        "colab": {
          "base_uri": "https://localhost:8080/"
        },
        "id": "lWTbkI1vCcCV",
        "outputId": "6220dc03-dfe8-4ed5-d3e4-06e900818724"
      },
      "execution_count": 12,
      "outputs": [
        {
          "output_type": "stream",
          "name": "stdout",
          "text": [
            "2\n",
            "10\n",
            "54\n"
          ]
        }
      ]
    },
    {
      "cell_type": "code",
      "source": [
        "print(numbers[1:3])\n",
        "print(numbers[:3])\n",
        "print(numbers[1:])\n",
        "print(numbers[:-1]) #baştan başla son elemana kadar yazdır"
      ],
      "metadata": {
        "colab": {
          "base_uri": "https://localhost:8080/"
        },
        "id": "c_dwWJxcCvEl",
        "outputId": "cf113cdd-7ea5-4420-c3ec-a189e6ab1ce7"
      },
      "execution_count": 13,
      "outputs": [
        {
          "output_type": "stream",
          "name": "stdout",
          "text": [
            "[3, 4]\n",
            "[2, 3, 4]\n",
            "[3, 4, 5, 6, 7, 8, 9, 10]\n",
            "[2, 3, 4, 5, 6, 7, 8, 9]\n"
          ]
        }
      ]
    },
    {
      "cell_type": "code",
      "source": [
        "print(sum(numbers[:3]))\n",
        "print(sum(numbers[-2:])-min(numbers[:3]))\n",
        "print(numbers.index(max(numbers)))"
      ],
      "metadata": {
        "colab": {
          "base_uri": "https://localhost:8080/"
        },
        "id": "pw-y-VXMDftW",
        "outputId": "9bce3af7-37c0-44e4-c2c2-2884d3fe9e1d"
      },
      "execution_count": 14,
      "outputs": [
        {
          "output_type": "stream",
          "name": "stdout",
          "text": [
            "9\n",
            "17\n",
            "8\n"
          ]
        }
      ]
    },
    {
      "cell_type": "code",
      "source": [
        "numbers+=[54,87]\n",
        "print(numbers)\n",
        "\n",
        "n2=[1,2,'ads']\n",
        "numbers+=n2\n",
        "print(numbers)"
      ],
      "metadata": {
        "colab": {
          "base_uri": "https://localhost:8080/"
        },
        "id": "K9rLdE_tGYlG",
        "outputId": "beceac89-079d-4273-f4ac-2c1c5e8dd96d"
      },
      "execution_count": 15,
      "outputs": [
        {
          "output_type": "stream",
          "name": "stdout",
          "text": [
            "[2, 3, 4, 5, 6, 7, 8, 9, 10, 54, 87]\n",
            "[2, 3, 4, 5, 6, 7, 8, 9, 10, 54, 87, 1, 2, 'ads']\n"
          ]
        }
      ]
    },
    {
      "cell_type": "code",
      "source": [
        "n1=[5,9,12]\n",
        "for i in n1:\n",
        "  print(i)"
      ],
      "metadata": {
        "colab": {
          "base_uri": "https://localhost:8080/"
        },
        "id": "dwluG2PVG6P8",
        "outputId": "2fa23de2-a24e-460d-cda7-69eef73ae64e"
      },
      "execution_count": 16,
      "outputs": [
        {
          "output_type": "stream",
          "name": "stdout",
          "text": [
            "5\n",
            "9\n",
            "12\n"
          ]
        }
      ]
    },
    {
      "cell_type": "markdown",
      "source": [
        "Değer bilgisi ile silme\n",
        "\n",
        "list1=[‘deger1’, ‘deger2’, ‘deger3’ ]\n",
        "\n",
        "list1.remove(‘deger2’)\n"
      ],
      "metadata": {
        "id": "hLCWhYobVhho"
      }
    },
    {
      "cell_type": "code",
      "source": [
        "while 'Kazım' in isimler:\n",
        "  isimler.remove('Kazım')\n",
        "print(isimler)"
      ],
      "metadata": {
        "colab": {
          "base_uri": "https://localhost:8080/"
        },
        "id": "Y-eefTTvHVwn",
        "outputId": "f8d904be-d665-45d7-8705-be1211cbd918"
      },
      "execution_count": 17,
      "outputs": [
        {
          "output_type": "stream",
          "name": "stdout",
          "text": [
            "['Cemre', 'Beyza', 'Mirza']\n"
          ]
        }
      ]
    },
    {
      "cell_type": "code",
      "source": [
        "number=list(range(1,11))\n",
        "print(number)"
      ],
      "metadata": {
        "colab": {
          "base_uri": "https://localhost:8080/"
        },
        "id": "2HDKsLkgHoud",
        "outputId": "8fa6224e-8fa7-4861-afd9-a461b562bc79"
      },
      "execution_count": null,
      "outputs": [
        {
          "output_type": "stream",
          "name": "stdout",
          "text": [
            "[1, 2, 3, 4, 5, 6, 7, 8, 9, 10]\n"
          ]
        }
      ]
    },
    {
      "cell_type": "code",
      "source": [
        "notBilgileri=[['Merve',45,95],['Elif',56,78],['Cemre',45,89]]\n",
        "print(notBilgileri)"
      ],
      "metadata": {
        "colab": {
          "base_uri": "https://localhost:8080/"
        },
        "id": "JBJt5Sk4H3qN",
        "outputId": "15ed5c51-d322-42f6-c1d0-58a75435ffd7"
      },
      "execution_count": null,
      "outputs": [
        {
          "output_type": "stream",
          "name": "stdout",
          "text": [
            "[['Merve', 45, 95], ['Elif', 56, 78], ['Cemre', 45, 89]]\n"
          ]
        }
      ]
    },
    {
      "cell_type": "code",
      "source": [
        "liste1=list(range(0,20,2))\n",
        "liste1"
      ],
      "metadata": {
        "colab": {
          "base_uri": "https://localhost:8080/"
        },
        "id": "etaJNfS8i_9V",
        "outputId": "b778c4a8-d996-4e35-b9df-ce9e1b867aa9"
      },
      "execution_count": null,
      "outputs": [
        {
          "output_type": "execute_result",
          "data": {
            "text/plain": [
              "[0, 2, 4, 6, 8, 10, 12, 14, 16, 18]"
            ]
          },
          "metadata": {},
          "execution_count": 3
        }
      ]
    },
    {
      "cell_type": "code",
      "source": [
        "sayilar=[]\n",
        "for i in range(1,30):\n",
        "  if i%2==0 and i%3==0:\n",
        "    sayilar.append(i)\n",
        "print(sayilar)"
      ],
      "metadata": {
        "colab": {
          "base_uri": "https://localhost:8080/"
        },
        "id": "k5j7Ofh4kAAK",
        "outputId": "baea0b48-5646-4e5e-e810-65d85afb3734"
      },
      "execution_count": 18,
      "outputs": [
        {
          "output_type": "stream",
          "name": "stdout",
          "text": [
            "[6, 12, 18, 24]\n"
          ]
        }
      ]
    },
    {
      "cell_type": "code",
      "source": [
        "liste2=[i for i in range(2,20)]\n",
        "print(liste2)\n",
        "\n",
        "liste3=[i for i in range(2,20,2)]\n",
        "print(liste3)\n",
        "\n",
        "liste4=list(range(2,20,2))\n",
        "print(liste4)"
      ],
      "metadata": {
        "colab": {
          "base_uri": "https://localhost:8080/"
        },
        "id": "s8dgyUEIkP2t",
        "outputId": "68938605-9265-4daa-b66f-d530f36a2854"
      },
      "execution_count": null,
      "outputs": [
        {
          "output_type": "stream",
          "name": "stdout",
          "text": [
            "[2, 3, 4, 5, 6, 7, 8, 9, 10, 11, 12, 13, 14, 15, 16, 17, 18, 19]\n",
            "[2, 4, 6, 8, 10, 12, 14, 16, 18]\n",
            "[2, 4, 6, 8, 10, 12, 14, 16, 18]\n"
          ]
        }
      ]
    },
    {
      "cell_type": "code",
      "source": [
        "liste5=[a for a in range(1,101) if a%9==0 and a%2!=0]\n",
        "print(liste5)"
      ],
      "metadata": {
        "colab": {
          "base_uri": "https://localhost:8080/"
        },
        "id": "9imepYSgl-ON",
        "outputId": "fcb40174-c2d2-47b0-e4ae-b22e5364dc3b"
      },
      "execution_count": null,
      "outputs": [
        {
          "output_type": "stream",
          "name": "stdout",
          "text": [
            "[9, 27, 45, 63, 81, 99]\n"
          ]
        }
      ]
    },
    {
      "cell_type": "code",
      "source": [
        "liste6=[a**2 for a in range(1,100) if a%3==0 and a%4==0]\n",
        "print(liste6)"
      ],
      "metadata": {
        "colab": {
          "base_uri": "https://localhost:8080/"
        },
        "id": "npdqD7MvniIN",
        "outputId": "689dbc01-4c78-40f7-dac4-3c12f8103e81"
      },
      "execution_count": null,
      "outputs": [
        {
          "output_type": "stream",
          "name": "stdout",
          "text": [
            "[144, 576, 1296, 2304, 3600, 5184, 7056, 9216]\n"
          ]
        }
      ]
    },
    {
      "cell_type": "code",
      "source": [
        "metin=\"merhaba\"\n",
        "liste7=[i for i in metin]\n",
        "print(liste7)\n",
        "\n",
        "liste8=list(metin)\n",
        "print(liste8)\n",
        "\n",
        "liste9=[]\n",
        "for i in range(0,len(metin)):\n",
        "  liste9.append(metin[i])\n",
        "print(liste9)"
      ],
      "metadata": {
        "colab": {
          "base_uri": "https://localhost:8080/"
        },
        "id": "2m9wruUmoJw9",
        "outputId": "a717c3f6-c3e6-41e9-fa12-ff286275bb2d"
      },
      "execution_count": null,
      "outputs": [
        {
          "output_type": "stream",
          "name": "stdout",
          "text": [
            "['m', 'e', 'r', 'h', 'a', 'b', 'a']\n",
            "['m', 'e', 'r', 'h', 'a', 'b', 'a']\n",
            "['m', 'e', 'r', 'h', 'a', 'b', 'a']\n"
          ]
        }
      ]
    },
    {
      "cell_type": "code",
      "source": [
        "yeniListe=[]\n",
        "harfler=\"kfdsflk< kadnssa415s4dg16ds 6<fsaf541635\"\n",
        "sayilarr=[0,1,2,3,4,5,6,7,8,9]\n",
        "for karakter in harfler:\n",
        "  for i in sayilarr:\n",
        "    if karakter==str(i):\n",
        "      yeniListe.append(karakter)\n",
        "print(yeniListe)"
      ],
      "metadata": {
        "colab": {
          "base_uri": "https://localhost:8080/"
        },
        "id": "k_Olju25pohV",
        "outputId": "3fcfd5a8-4307-4a6c-b42f-b3c3cfd9f7fa"
      },
      "execution_count": null,
      "outputs": [
        {
          "output_type": "stream",
          "name": "stdout",
          "text": [
            "['4', '1', '5', '4', '1', '6', '6', '5', '4', '1', '6', '3', '5']\n"
          ]
        }
      ]
    },
    {
      "cell_type": "code",
      "source": [
        "liste10=[int(i) for i in harfler if i.isnumeric()]\n",
        "print(sum(liste10))"
      ],
      "metadata": {
        "colab": {
          "base_uri": "https://localhost:8080/"
        },
        "id": "qdBLQby0wr99",
        "outputId": "caa4d77f-0550-46e1-a95b-1b0681972876"
      },
      "execution_count": null,
      "outputs": [
        {
          "output_type": "stream",
          "name": "stdout",
          "text": [
            "51\n"
          ]
        }
      ]
    },
    {
      "cell_type": "code",
      "source": [
        "aList=[\"Pynative\",[1,2,3]]\n",
        "print(aList[1][2])"
      ],
      "metadata": {
        "colab": {
          "base_uri": "https://localhost:8080/"
        },
        "id": "Yg0IOwooxc7i",
        "outputId": "4d556473-2b93-4c44-ae03-25522a81d394"
      },
      "execution_count": null,
      "outputs": [
        {
          "output_type": "stream",
          "name": "stdout",
          "text": [
            "3\n"
          ]
        }
      ]
    },
    {
      "cell_type": "code",
      "source": [
        "l=[5]*10\n",
        "print(l)"
      ],
      "metadata": {
        "colab": {
          "base_uri": "https://localhost:8080/"
        },
        "id": "5XcHe3xpxz0Z",
        "outputId": "c2b7eb70-d10f-44f3-b865-0d6f98a8c278"
      },
      "execution_count": null,
      "outputs": [
        {
          "output_type": "stream",
          "name": "stdout",
          "text": [
            "[5, 5, 5, 5, 5, 5, 5, 5, 5, 5]\n"
          ]
        }
      ]
    },
    {
      "cell_type": "code",
      "source": [
        "liste11=[]\n",
        "for x in[\"Hello\",\"Good\"]:\n",
        "  for y in [\"Dear\",\"Bye\"]:\n",
        "    liste11.append(x+y)\n",
        "print(liste11)"
      ],
      "metadata": {
        "colab": {
          "base_uri": "https://localhost:8080/"
        },
        "id": "9dMQ0ZNsx8An",
        "outputId": "6db958d5-70e6-4ea4-de9d-111bd3a70cbc"
      },
      "execution_count": null,
      "outputs": [
        {
          "output_type": "stream",
          "name": "stdout",
          "text": [
            "['HelloDear', 'HelloBye', 'GoodDear', 'GoodBye']\n"
          ]
        }
      ]
    },
    {
      "cell_type": "code",
      "source": [
        "sampleList=[10,20,30]\n",
        "sampleList.pop()\n",
        "print(sampleList)\n",
        "\n",
        "sampleList.pop(1)\n",
        "print(sampleList)\n",
        "\n",
        "del(sampleList[0])\n",
        "print(sampleList)"
      ],
      "metadata": {
        "colab": {
          "base_uri": "https://localhost:8080/"
        },
        "id": "v3JcJvyQzNbU",
        "outputId": "e206931c-821e-467d-ca0e-1412e8f6528e"
      },
      "execution_count": null,
      "outputs": [
        {
          "output_type": "stream",
          "name": "stdout",
          "text": [
            "[10, 20]\n",
            "[10]\n",
            "[]\n"
          ]
        }
      ]
    },
    {
      "cell_type": "code",
      "source": [
        "list1=['xyz','zara','pyhton']\n",
        "print(max(list1))\n"
      ],
      "metadata": {
        "colab": {
          "base_uri": "https://localhost:8080/"
        },
        "id": "ITv6MIydzptv",
        "outputId": "3f41bec0-329e-4a85-98f8-2dc86e557584"
      },
      "execution_count": null,
      "outputs": [
        {
          "output_type": "stream",
          "name": "stdout",
          "text": [
            "zara\n"
          ]
        }
      ]
    },
    {
      "cell_type": "code",
      "source": [
        "metin=\"fknsdknf416541gdszgd5g451gsd24g5ds\"\n",
        "listeK=[]\n",
        "listeS=[]\n",
        "for i in metin:\n",
        "  for k in range(0,9):\n",
        "      if i==str(k):\n",
        "        listeS.append(int(i))\n",
        "  if i!=str(k):\n",
        "      listeK.append(i)\n",
        "print(listeS)\n",
        "print(listeK)\n",
        "\n",
        "listecopy=listeS.copy()\n",
        "for a in listecopy:\n",
        "  if a%2==0:\n",
        "    listeS.remove(a)\n",
        "print(listeS)"
      ],
      "metadata": {
        "colab": {
          "base_uri": "https://localhost:8080/"
        },
        "id": "3NzhbEfAz4s5",
        "outputId": "86fe42b7-1bb2-4d2d-ccd0-13f3cb5b2cbb"
      },
      "execution_count": null,
      "outputs": [
        {
          "output_type": "stream",
          "name": "stdout",
          "text": [
            "[4, 1, 6, 5, 4, 1, 5, 4, 5, 1, 2, 4, 5]\n",
            "['f', 'k', 'n', 's', 'd', 'k', 'n', 'f', '4', '1', '6', '5', '4', '1', 'g', 'd', 's', 'z', 'g', 'd', '5', 'g', '4', '5', '1', 'g', 's', 'd', '2', '4', 'g', '5', 'd', 's']\n",
            "[1, 5, 1, 5, 5, 1, 5]\n"
          ]
        }
      ]
    }
  ]
}