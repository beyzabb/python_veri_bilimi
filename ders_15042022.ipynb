{
  "nbformat": 4,
  "nbformat_minor": 0,
  "metadata": {
    "colab": {
      "name": "ders_15042022.ipynb",
      "provenance": [],
      "collapsed_sections": []
    },
    "kernelspec": {
      "name": "python3",
      "display_name": "Python 3"
    },
    "language_info": {
      "name": "python"
    }
  },
  "cells": [
    {
      "cell_type": "markdown",
      "source": [
        "+ \\t bir tab boşluk bırakır\n",
        "+ \\n bir alt satıra geçer"
      ],
      "metadata": {
        "id": "nJB4OiHHyFaK"
      }
    },
    {
      "cell_type": "code",
      "execution_count": null,
      "metadata": {
        "colab": {
          "base_uri": "https://localhost:8080/"
        },
        "id": "ur0uHl7YxkNZ",
        "outputId": "743a6fd5-5001-4a48-ff5e-920c3f6f53d9"
      },
      "outputs": [
        {
          "output_type": "stream",
          "name": "stdout",
          "text": [
            "Merve\tGullu\n",
            "05541234578\n"
          ]
        }
      ],
      "source": [
        "adSoyad='Merve\\tGullu\\n05541234578'\n",
        "print(adSoyad)"
      ]
    },
    {
      "cell_type": "markdown",
      "source": [
        "+ lower() ve casefold() fonksiyonları verideki bütün değerleri küçük harfe çevirir.\n",
        "+ upper() fonksiyonları verideki bütün değerleri büyük harfe çevirir."
      ],
      "metadata": {
        "id": "h8mL9TCEzfg-"
      }
    },
    {
      "cell_type": "code",
      "source": [
        "metin='this is an EXAMPLE'\n",
        "x=metin.lower()\n",
        "y=metin.upper()\n",
        "print(x)\n",
        "print(y)\n",
        "\n",
        "metin='this is an EXAMPLE'\n",
        "x=metin.casefold()\n",
        "print(x)\n",
        "\n"
      ],
      "metadata": {
        "colab": {
          "base_uri": "https://localhost:8080/"
        },
        "id": "xI9xuLwmyUh_",
        "outputId": "5cab377b-70d2-4b5a-997e-21f9477688c9"
      },
      "execution_count": null,
      "outputs": [
        {
          "output_type": "stream",
          "name": "stdout",
          "text": [
            "this is an example\n",
            "THIS IS AN EXAMPLE\n",
            "this is an example\n"
          ]
        }
      ]
    },
    {
      "cell_type": "markdown",
      "source": [
        "+ islower fonksiyonu verideki bütün harflerin küçük harf olup olmadığını kontrol eder.True veya False değer döndürür."
      ],
      "metadata": {
        "id": "9HgNp9b0zTjI"
      }
    },
    {
      "cell_type": "code",
      "source": [
        "metin2='hepsi kucuk'\n",
        "print(metin2.islower())"
      ],
      "metadata": {
        "colab": {
          "base_uri": "https://localhost:8080/"
        },
        "id": "mIeQBK2MzIO4",
        "outputId": "873ad14c-0940-4932-d34c-d08ec7e20e08"
      },
      "execution_count": null,
      "outputs": [
        {
          "output_type": "stream",
          "name": "stdout",
          "text": [
            "True\n"
          ]
        }
      ]
    },
    {
      "cell_type": "markdown",
      "source": [
        "+ capitalize() verinin ilk harfini büyük harf yapar"
      ],
      "metadata": {
        "id": "F-kt-ZnQ0EJG"
      }
    },
    {
      "cell_type": "code",
      "source": [
        "y=metin2.capitalize()\n",
        "print(y)"
      ],
      "metadata": {
        "colab": {
          "base_uri": "https://localhost:8080/"
        },
        "id": "uUC57XWrz4eo",
        "outputId": "ae1468db-f566-4612-9e7d-c6bb53149e3f"
      },
      "execution_count": null,
      "outputs": [
        {
          "output_type": "stream",
          "name": "stdout",
          "text": [
            "Hepsi kucuk\n"
          ]
        }
      ]
    },
    {
      "cell_type": "markdown",
      "source": [
        "+ title() bir cümledeki her kelimenin baş harfini büyük yapar\n",
        "+ istitle() bir cümledeki her kelimenin baş harfinin büyük olup olmadığını kontrol eder."
      ],
      "metadata": {
        "id": "ZlOVqP8P0aUe"
      }
    },
    {
      "cell_type": "code",
      "source": [
        "baslik='Bu bir basliktir'\n",
        "print(baslik.title())\n",
        "print(baslik.istitle())"
      ],
      "metadata": {
        "colab": {
          "base_uri": "https://localhost:8080/"
        },
        "id": "wi0Z6aod0PBn",
        "outputId": "f7bae128-6152-468c-88f4-0740045441de"
      },
      "execution_count": null,
      "outputs": [
        {
          "output_type": "stream",
          "name": "stdout",
          "text": [
            "Bu Bir Basliktir\n",
            "False\n"
          ]
        }
      ]
    },
    {
      "cell_type": "code",
      "source": [
        "haber='Son Dakika!\\nTEMde 10 araç birbirine girdi.\\nTrafik durma noktasına geldi.\\n'\n",
        "kucukHaber=haber.lower()\n",
        "buyukHaber=haber.upper()\n",
        "basHarfHaber=haber.capitalize()\n",
        "baslikHaber=haber.title()\n",
        "\n",
        "print(haber)\n",
        "print(kucukHaber)\n",
        "print(buyukHaber)\n",
        "print(basHarfHaber)\n",
        "print(baslikHaber)\n"
      ],
      "metadata": {
        "colab": {
          "base_uri": "https://localhost:8080/"
        },
        "id": "vdq9bd6-0jNP",
        "outputId": "df8e048c-9f45-4d36-a0e9-590dc12dabf9"
      },
      "execution_count": null,
      "outputs": [
        {
          "output_type": "stream",
          "name": "stdout",
          "text": [
            "Son Dakika!\n",
            "TEMde 10 araç birbirine girdi.\n",
            "Trafik durma noktasına geldi.\n",
            "\n",
            "son dakika!\n",
            "temde 10 araç birbirine girdi.\n",
            "trafik durma noktasına geldi.\n",
            "\n",
            "SON DAKIKA!\n",
            "TEMDE 10 ARAÇ BIRBIRINE GIRDI.\n",
            "TRAFIK DURMA NOKTASINA GELDI.\n",
            "\n",
            "Son dakika!\n",
            "temde 10 araç birbirine girdi.\n",
            "trafik durma noktasına geldi.\n",
            "\n",
            "Son Dakika!\n",
            "Temde 10 Araç Birbirine Girdi.\n",
            "Trafik Durma Noktasına Geldi.\n",
            "\n"
          ]
        }
      ]
    },
    {
      "cell_type": "markdown",
      "source": [
        "+ strip() veri içerisinde silmek istediğimiz değerleri silmemizi sağlar"
      ],
      "metadata": {
        "id": "TfuS1oBm20MA"
      }
    },
    {
      "cell_type": "code",
      "source": [
        "#Herhangi bir değer atanmazsa boşluk karakterini siler\n",
        "metin=' Merve'\n",
        "e=metin.strip()\n",
        "print(e)\n",
        "\n",
        "#a karakterini siler\n",
        "metin='a Merve'\n",
        "d=metin.strip('a')\n",
        "print(d)"
      ],
      "metadata": {
        "colab": {
          "base_uri": "https://localhost:8080/"
        },
        "id": "4IYDkPQs2gQf",
        "outputId": "c36e0025-1499-49dc-c526-b9a426bada91"
      },
      "execution_count": null,
      "outputs": [
        {
          "output_type": "stream",
          "name": "stdout",
          "text": [
            "Merve\n",
            " Merve\n"
          ]
        }
      ]
    },
    {
      "cell_type": "markdown",
      "source": [
        "+ replace() istenilen bir değeri başka bir değerle değiştirmemizi sağlar"
      ],
      "metadata": {
        "id": "p6U_KFwf3taQ"
      }
    },
    {
      "cell_type": "code",
      "source": [
        "spor='Galatasarayda 30 Nisanda gerçekleştirilecek seçimde Metin Öztürkle yarışacak başkan adayı\\nEşref Hamamcıoğlu önemli açıklamalarda bulundu.\\nBasın mensuplarının sorularını yanıtlayan Hamamcıoğlu,\\nseçilmesi halinde birlikte çalışacağı sportif direktörü de açıkladı.'\n",
        "yeni=spor.replace('Metin','Hakan')\n",
        "print(yeni)\n",
        "\n",
        "guncel=yeni.replace('açıkladı',' ')\n",
        "print(guncel)"
      ],
      "metadata": {
        "colab": {
          "base_uri": "https://localhost:8080/"
        },
        "id": "289bnZOW3JwY",
        "outputId": "6a437e73-d839-47c2-8aa0-3a0fc0d29bd0"
      },
      "execution_count": null,
      "outputs": [
        {
          "output_type": "stream",
          "name": "stdout",
          "text": [
            "Galatasarayda 30 Nisanda gerçekleştirilecek seçimde Hakan Öztürkle yarışacak başkan adayı\n",
            "Eşref Hamamcıoğlu önemli açıklamalarda bulundu.\n",
            "Basın mensuplarının sorularını yanıtlayan Hamamcıoğlu,\n",
            "seçilmesi halinde birlikte çalışacağı sportif direktörü de açıkladı.\n",
            "\n",
            "Galatasarayda 30 Nisanda gerçekleştirilecek seçimde Hakan Öztürkle yarışacak başkan adayı\n",
            "Eşref Hamamcıoğlu önemli açıklamalarda bulundu.\n",
            "Basın mensuplarının sorularını yanıtlayan Hamamcıoğlu,\n",
            "seçilmesi halinde birlikte çalışacağı sportif direktörü de  .\n",
            "\n"
          ]
        }
      ]
    },
    {
      "cell_type": "markdown",
      "source": [
        "+ split() veriyi belirli bir düzene göre bölünmesini sağlar. Herhangi bir düzen yoksa boşluklara göre bölünme gerçekleşir"
      ],
      "metadata": {
        "id": "0RyVHdq95FwA"
      }
    },
    {
      "cell_type": "code",
      "source": [
        "print(spor)\n",
        "\n",
        "ayri=spor.split()\n",
        "print(ayri)\n",
        "\n",
        "ayri2=spor.split('.')\n",
        "print(ayri2)"
      ],
      "metadata": {
        "colab": {
          "base_uri": "https://localhost:8080/"
        },
        "id": "zBSB25MX36Bg",
        "outputId": "9bd8eeb5-330a-4f80-821f-2b1ce47d51de"
      },
      "execution_count": null,
      "outputs": [
        {
          "output_type": "stream",
          "name": "stdout",
          "text": [
            "Galatasarayda 30 Nisanda gerçekleştirilecek seçimde Metin Öztürkle yarışacak başkan adayı\n",
            "Eşref Hamamcıoğlu önemli açıklamalarda bulundu.\n",
            "Basın mensuplarının sorularını yanıtlayan Hamamcıoğlu,\n",
            "seçilmesi halinde birlikte çalışacağı sportif direktörü de açıkladı.\n",
            "\n",
            "['Galatasarayda', '30', 'Nisanda', 'gerçekleştirilecek', 'seçimde', 'Metin', 'Öztürkle', 'yarışacak', 'başkan', 'adayı', 'Eşref', 'Hamamcıoğlu', 'önemli', 'açıklamalarda', 'bulundu.', 'Basın', 'mensuplarının', 'sorularını', 'yanıtlayan', 'Hamamcıoğlu,', 'seçilmesi', 'halinde', 'birlikte', 'çalışacağı', 'sportif', 'direktörü', 'de', 'açıkladı.']\n",
            "['Galatasarayda 30 Nisanda gerçekleştirilecek seçimde Metin Öztürkle yarışacak başkan adayı\\nEşref Hamamcıoğlu önemli açıklamalarda bulundu', '\\nBasın mensuplarının sorularını yanıtlayan Hamamcıoğlu,\\nseçilmesi halinde birlikte çalışacağı sportif direktörü de açıkladı', '\\n']\n"
          ]
        }
      ]
    },
    {
      "cell_type": "code",
      "source": [
        "print(spor.lower().split('nisanda'))"
      ],
      "metadata": {
        "colab": {
          "base_uri": "https://localhost:8080/"
        },
        "id": "iTszW57n5XP4",
        "outputId": "b857854c-3e03-4346-e418-aeb13e435e21"
      },
      "execution_count": null,
      "outputs": [
        {
          "output_type": "stream",
          "name": "stdout",
          "text": [
            "['galatasarayda 30 ', ' gerçekleştirilecek seçimde metin öztürkle yarışacak başkan adayı\\neşref hamamcıoğlu önemli açıklamalarda bulundu.\\nbasın mensuplarının sorularını yanıtlayan hamamcıoğlu,\\nseçilmesi halinde birlikte çalışacağı sportif direktörü de açıkladı.\\n']\n"
          ]
        }
      ]
    },
    {
      "cell_type": "markdown",
      "source": [
        "+ len() verinin karkater sayısına göre uzunluğunu ekrana yansıtır."
      ],
      "metadata": {
        "id": "bEU1d8ip57vQ"
      }
    },
    {
      "cell_type": "code",
      "source": [
        "len('metin123')"
      ],
      "metadata": {
        "colab": {
          "base_uri": "https://localhost:8080/"
        },
        "id": "Sf9vILgd5mUn",
        "outputId": "6809bc7d-c3e1-4d01-c1a4-83ecebf9ac4f"
      },
      "execution_count": null,
      "outputs": [
        {
          "output_type": "execute_result",
          "data": {
            "text/plain": [
              "8"
            ]
          },
          "metadata": {},
          "execution_count": 43
        }
      ]
    },
    {
      "cell_type": "code",
      "source": [
        "print(len(haber.lower().split('nisanda')))\n",
        "print(len(spor.upper().split('A')))"
      ],
      "metadata": {
        "colab": {
          "base_uri": "https://localhost:8080/"
        },
        "id": "SvcTSQ4Y557p",
        "outputId": "5a2773aa-87fb-4024-9a55-d50929885aa2"
      },
      "execution_count": null,
      "outputs": [
        {
          "output_type": "stream",
          "name": "stdout",
          "text": [
            "1\n",
            "37\n"
          ]
        }
      ]
    },
    {
      "cell_type": "code",
      "source": [
        "isimSoyisim='Merve Cemre Gullu'\n",
        "soyisim=isimSoyisim.split()[len(isimSoyisim.split())-1].upper()\n",
        "print(soyisim)"
      ],
      "metadata": {
        "colab": {
          "base_uri": "https://localhost:8080/"
        },
        "id": "jCMQEuRe6VfB",
        "outputId": "1261f848-7e50-4d7b-c8ad-6b53a39d6fb2"
      },
      "execution_count": null,
      "outputs": [
        {
          "output_type": "stream",
          "name": "stdout",
          "text": [
            "GULLU\n"
          ]
        }
      ]
    },
    {
      "cell_type": "code",
      "source": [
        "def soyisimYaz(adSoyad):\n",
        "  parcala=adSoyad.split()\n",
        "  sonindex=len(parcala)-1\n",
        "  soyisim=parcala[sonindex].upper()\n",
        "  return soyisim\n",
        "\n",
        "adSoyad=input('Adınızı ve soyadınızı giriniz: ')\n",
        "sonuc=soyisimYaz(adSoyad)\n",
        "print(sonuc)"
      ],
      "metadata": {
        "colab": {
          "base_uri": "https://localhost:8080/"
        },
        "id": "wDeZ8c4K8qEh",
        "outputId": "64be80c4-8deb-4f16-d796-363c0b39b288"
      },
      "execution_count": null,
      "outputs": [
        {
          "output_type": "stream",
          "name": "stdout",
          "text": [
            "Adınızı ve soyadınızı giriniz: Beyza Başağa\n",
            "BAŞAĞA\n"
          ]
        }
      ]
    },
    {
      "cell_type": "code",
      "source": [
        "say=spor.count('.')\n",
        "print(say)\n",
        "print(spor.count('a',len(spor)-50,len(spor))) #Son 50 karekterde kaç tane a olduğunu sayar"
      ],
      "metadata": {
        "colab": {
          "base_uri": "https://localhost:8080/"
        },
        "id": "kZx6oVpu9d14",
        "outputId": "8e932dc1-8f6b-4868-c68b-eab65b6123ff"
      },
      "execution_count": null,
      "outputs": [
        {
          "output_type": "stream",
          "name": "stdout",
          "text": [
            "2\n",
            "5\n"
          ]
        }
      ]
    },
    {
      "cell_type": "code",
      "source": [
        "x=spor.split()\n",
        "y=len(x)-1\n",
        "print(x[y].count('a'))"
      ],
      "metadata": {
        "colab": {
          "base_uri": "https://localhost:8080/"
        },
        "id": "jYGS0GZ6_Hjg",
        "outputId": "9808efbe-07d1-41e0-9b94-e899b96a432d"
      },
      "execution_count": null,
      "outputs": [
        {
          "output_type": "stream",
          "name": "stdout",
          "text": [
            "2\n"
          ]
        }
      ]
    },
    {
      "cell_type": "code",
      "source": [
        "def arananHarfiBul(metin,sira,harf):\n",
        "  parcala=metin.split()\n",
        "  sayi=parcala[sira].count(harf)\n",
        "  return sayi\n",
        "\n",
        "metin=input('metin giriniz:' )\n",
        "sira=int(input('kaçıncı sıradaki kelime: '))\n",
        "harf=input('hangi harf: ')\n",
        "sonuc=arananHarfiBul(metin,sira,harf)\n",
        "print(sonuc)"
      ],
      "metadata": {
        "colab": {
          "base_uri": "https://localhost:8080/"
        },
        "id": "fuU80ZDZ_nNh",
        "outputId": "0ed9c571-56b3-472e-fff7-2bcc2a40708a"
      },
      "execution_count": null,
      "outputs": [
        {
          "output_type": "stream",
          "name": "stdout",
          "text": [
            "metin giriniz:merhaba ben beyza basaga\n",
            "kaçıncı sıradaki kelime: 2\n",
            "hangi harf: e\n",
            "1\n"
          ]
        }
      ]
    },
    {
      "cell_type": "code",
      "source": [
        "metin='deneme'\n",
        "print(metin)\n",
        "print(metin.center(20))\n",
        "print(metin.center(20,'*'))"
      ],
      "metadata": {
        "colab": {
          "base_uri": "https://localhost:8080/"
        },
        "id": "nZj5PlyoBzRB",
        "outputId": "b34dcffe-4e3a-4543-f6a1-bbd17099fd8e"
      },
      "execution_count": null,
      "outputs": [
        {
          "output_type": "stream",
          "name": "stdout",
          "text": [
            "deneme\n",
            "       deneme       \n",
            "*******deneme*******\n"
          ]
        }
      ]
    },
    {
      "cell_type": "code",
      "source": [
        "def ortala(metin,indeks,uzunluk,karakter):\n",
        "  sonuc=metin.split()[indeks].center(uzunluk,str(karakter))\n",
        "  return sonuc\n",
        "metin=input('Metni giriniz: ')\n",
        "indeks=int(input('Indeksi giriniz: '))\n",
        "uzunluk=int(input('Uzunlugu giriniz: '))\n",
        "karakter=input('Karakteri giriniz: ')\n",
        "cikti=ortala(metin,indeks,uzunluk,karakter)\n",
        "print(cikti)"
      ],
      "metadata": {
        "colab": {
          "base_uri": "https://localhost:8080/"
        },
        "id": "TDzBpg0NCRcF",
        "outputId": "2305c85c-9003-4f59-8039-3384cb67d067"
      },
      "execution_count": 2,
      "outputs": [
        {
          "output_type": "stream",
          "name": "stdout",
          "text": [
            "Metni giriniz: merhaba ben merve\n",
            "Indeksi giriniz: 1\n",
            "Uzunlugu giriniz: 10\n",
            "Karakteri giriniz: b\n",
            "bbbbenbbbb\n"
          ]
        }
      ]
    },
    {
      "cell_type": "code",
      "source": [
        "#count fonksiyonunu biz oluşturuyoruz\n",
        "def myCountFonksiyon(metin,aranacakHarf):\n",
        "  karakter_sayisi=len(metin)\n",
        "  sayac=0\n",
        "  for i in range(0,karakter_sayisi):\n",
        "    if metin[i]==aranacakHarf:\n",
        "      sayac+=1\n",
        "  print(sayac,'tane',aranacakHarf,'bulundu')\n",
        "\n",
        "myCountFonksiyon(spor,'e')\n"
      ],
      "metadata": {
        "colab": {
          "base_uri": "https://localhost:8080/"
        },
        "id": "rerJtaLVRKGr",
        "outputId": "a0695c82-f113-45f3-80c0-12887398bb02"
      },
      "execution_count": null,
      "outputs": [
        {
          "output_type": "stream",
          "name": "stdout",
          "text": [
            "18 tane e bulundu\n"
          ]
        }
      ]
    },
    {
      "cell_type": "code",
      "source": [
        "#count fonksiyonunu biz oluşturuyoruz\n",
        "def myCountFonksiyon(metin,aranacakHarf,ilkindex=0,sonindex=0):\n",
        "  if sonindex==0:\n",
        "    sonindex=len(metin)\n",
        "  \n",
        "  sayac=0\n",
        "  for i in range(ilkindex,sonindex):\n",
        "    if metin[i]==aranacakHarf:\n",
        "      sayac+=1\n",
        "  print(sayac,'tane',aranacakHarf,'bulundu')\n",
        "  return sayac\n",
        "\n",
        "#myCountFonksiyon(spor,'e',20,50)"
      ],
      "metadata": {
        "id": "CUGBWfcQSaoE"
      },
      "execution_count": null,
      "outputs": []
    },
    {
      "cell_type": "code",
      "source": [
        "sesli_harfler=\"aeiüö\"\n",
        "sayac=0\n",
        "for i in range(0,len(sesli_harfler)):\n",
        "  sayac+=myCountFonksiyon(spor,sesli_harfler[i])\n",
        "print(sayac,'tane sesli harf vardır')"
      ],
      "metadata": {
        "colab": {
          "base_uri": "https://localhost:8080/"
        },
        "id": "XtBVob_bTrqz",
        "outputId": "eddee179-a528-4602-e7f1-f3cc98fbfbff"
      },
      "execution_count": null,
      "outputs": [
        {
          "output_type": "stream",
          "name": "stdout",
          "text": [
            "36 tane a bulundu\n",
            "18 tane e bulundu\n",
            "13 tane i bulundu\n",
            "2 tane ü bulundu\n",
            "2 tane ö bulundu\n",
            "71 tane sesli harf vardır\n"
          ]
        }
      ]
    },
    {
      "cell_type": "code",
      "source": [
        "print(spor)\n",
        "a=spor.endswith('açıkladı.\\n')\n",
        "print(a)"
      ],
      "metadata": {
        "colab": {
          "base_uri": "https://localhost:8080/"
        },
        "id": "fffV97uiU4W1",
        "outputId": "544a7df2-b4cb-4448-8268-5c0776ad66f9"
      },
      "execution_count": null,
      "outputs": [
        {
          "output_type": "stream",
          "name": "stdout",
          "text": [
            "Galatasarayda 30 Nisanda gerçekleştirilecek seçimde Metin Öztürkle yarışacak başkan adayı\n",
            "Eşref Hamamcıoğlu önemli açıklamalarda bulundu.\n",
            "Basın mensuplarının sorularını yanıtlayan Hamamcıoğlu,\n",
            "seçilmesi halinde birlikte çalışacağı sportif direktörü de açıkladı.\n",
            "\n",
            "True\n"
          ]
        }
      ]
    },
    {
      "cell_type": "code",
      "source": [
        "#endswith fonksiyonu\n",
        "def endwithFonksiyonu(metin,kontrol):\n",
        "  karakter_sayisi=len(metin)\n",
        "  indeks=0\n",
        "  for i in range(karakter_sayisi-len(kontrol),karakter_sayisi):\n",
        "    if metin[i]!=kontrol[indeks]:\n",
        "      return False\n",
        "    indeks+=1\n",
        "  return True\n",
        "endwithFonksiyonu('Merve','rve')"
      ],
      "metadata": {
        "colab": {
          "base_uri": "https://localhost:8080/"
        },
        "id": "R2E6DhmqVqZs",
        "outputId": "58ad1b43-d6d6-4621-c649-8539d9b30068"
      },
      "execution_count": null,
      "outputs": [
        {
          "output_type": "execute_result",
          "data": {
            "text/plain": [
              "True"
            ]
          },
          "metadata": {},
          "execution_count": 99
        }
      ]
    }
  ]
}