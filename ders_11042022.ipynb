{
  "nbformat": 4,
  "nbformat_minor": 0,
  "metadata": {
    "colab": {
      "name": "ders_11042022.ipynb",
      "provenance": [],
      "collapsed_sections": []
    },
    "kernelspec": {
      "name": "python3",
      "display_name": "Python 3"
    },
    "language_info": {
      "name": "python"
    }
  },
  "cells": [
    {
      "cell_type": "code",
      "execution_count": null,
      "metadata": {
        "colab": {
          "base_uri": "https://localhost:8080/"
        },
        "id": "VU9bP6ZkLJZF",
        "outputId": "b427ac75-497c-4f05-bc3c-fcc387cd3354"
      },
      "outputs": [
        {
          "output_type": "stream",
          "name": "stdout",
          "text": [
            "2\n",
            "4\n",
            "6\n",
            "8\n",
            "10\n",
            "12\n",
            "14\n",
            "16\n",
            "18\n"
          ]
        }
      ],
      "source": [
        "for i in range(2,20,2):\n",
        "  print(i)"
      ]
    },
    {
      "cell_type": "code",
      "source": [
        "sayi=10\n",
        "while sayi>1:\n",
        "  if sayi%2==1:\n",
        "    print('tek sayi', sayi)\n",
        "  else:\n",
        "    print('çift sayi', sayi)\n",
        "  sayi-=1"
      ],
      "metadata": {
        "colab": {
          "base_uri": "https://localhost:8080/"
        },
        "id": "ZuTZtxWtLmfV",
        "outputId": "6e13ebd4-3d2b-4c00-bed1-e6daee8df958"
      },
      "execution_count": null,
      "outputs": [
        {
          "output_type": "stream",
          "name": "stdout",
          "text": [
            "çift sayi 10\n",
            "tek sayi 9\n",
            "çift sayi 8\n",
            "tek sayi 7\n",
            "çift sayi 6\n",
            "tek sayi 5\n",
            "çift sayi 4\n",
            "tek sayi 3\n",
            "çift sayi 2\n"
          ]
        }
      ]
    },
    {
      "cell_type": "markdown",
      "source": [
        "Bir kırtasiyecinin sattığı kalemlerin kodları ve birim fiyatları aşağıdaki gibidir.\n",
        "\n",
        "\n",
        "*   Kalem Rengi, Ürün kodu, Birim Fiyatı\n",
        "*   Kırmızı, 11,  5.50TL\n",
        "*   Lacivert, 12,  7.50TL\n",
        "*   Beyaz, 13,  4.50TL\n",
        "*   Mavi, 14,  7.45TL\n",
        "*   Sarı, 15,  5.25TL\n",
        "\n",
        "Kırtasiyeci hergünün sonunda kaç adet kalem sattığını ve toplam kaç lira para kazandığını bilmek istiyor.Günlük girdi bitimi için 111, her alışveriş bitimi için 222 kodu girilmelidir. Her alışveriş için ekrandan girilen ürün kodundan kaç adet satın alındığını sorarak işlem yapınız. Her işlemde ara tutarı ekrana yazdırınız."
      ],
      "metadata": {
        "id": "AvE88Dt2sPXF"
      }
    },
    {
      "cell_type": "code",
      "source": [
        "kirmizi=0\n",
        "lacivert=0\n",
        "beyaz=0\n",
        "mavi=0\n",
        "sari=0\n",
        "genelToplam=0\n",
        "tutar=0\n",
        "urunKodu=input('urun kodunu giriniz: ')\n",
        "while urunKodu!='111':\n",
        "  if urunKodu=='222':\n",
        "    print('Alisveris tutari: ', tutar)\n",
        "    genelToplam +=tutar\n",
        "    tutar=0\n",
        "  else:\n",
        "    adet=int(input('urunden kac adet almak istersiniz?: '))\n",
        "    if urunKodu=='11':\n",
        "      kirmizi+=1\n",
        "      tutar+= 5.5*adet\n",
        "    elif urunKodu=='12':\n",
        "      lacivert+=1\n",
        "      tutar+= adet*7.5\n",
        "    elif urunKodu=='13':\n",
        "      beyaz+=1\n",
        "      tutar+= adet*4.5 \n",
        "    elif urunKodu=='14':\n",
        "      mavi+=1\n",
        "      tutar+= adet*7.45\n",
        "    elif urunKodu=='15':\n",
        "      sari+=1\n",
        "      tutar+= adet*5.25\n",
        "    else:\n",
        "      print('gecersiz urun kodu girdiniz')\n",
        "  urunKodu=input('urun kodunu giriniz: ')\n",
        "  \n",
        "print('Gunluk girdi: ',genelToplam)\n",
        "print('Kırmızı: ',kirmizi,'Lacivert: ',lacivert,'Beyaz: ',beyaz,'Mavi ',mavi,'Sari ',sari,'Toplam satılan kalem sayısı: ',(kirmizi+lacivert+beyaz+sari))\n",
        "    "
      ],
      "metadata": {
        "colab": {
          "base_uri": "https://localhost:8080/"
        },
        "id": "hYykTR8jMTs2",
        "outputId": "93a2a579-a218-4e50-df70-f6c6815aadb9"
      },
      "execution_count": null,
      "outputs": [
        {
          "output_type": "stream",
          "name": "stdout",
          "text": [
            "urun kodunu giriniz: 11\n",
            "urunden kac adet almak istersiniz?: 2\n",
            "urun kodunu giriniz: 222\n",
            "Alisveris tutari:  11.0\n",
            "urun kodunu giriniz: 111\n",
            "Gunluk girdi:  11.0\n",
            "Kırmızı:  1 Lacivert:  0 Beyaz:  0 Mavi  0 Sari  0 Toplam satılan kalem sayısı:  1\n"
          ]
        }
      ]
    },
    {
      "cell_type": "markdown",
      "source": [
        "Bir ithalat ihracat şirketi için kar zarar hesaplamasında kullanılacak olan bir fonksiyon tasarlayınız. Ekrandan girilecek olan birbirinden farklı alış ve satış değerlerine göre \n",
        "\n",
        "> **Kar/Zarar Oranı= (satış fiyatı - Alış Fiyatı)/Alış Fİyatı**\n",
        "\n",
        "yukarıdaki formülle hesaplanmalı. Program alış veya satış fiyatının herhangi birine 0 girerlerse fonksiyon sonlanıp, kaç satıştan kar veya zarar ettiği bilgisini ekrana yazdırmalıdır.\n"
      ],
      "metadata": {
        "id": "i3Zm42UcsdJ1"
      }
    },
    {
      "cell_type": "code",
      "source": [
        "karSayac=0\n",
        "zararSayac=0\n",
        "karMiktari=0\n",
        "zararMiktari=0\n",
        "alisFiyati=float(input('alis fiyatini giriniz: '))\n",
        "satisFiyati=float(input('satis fiyatini giriniz: '))\n",
        "while alisFiyati!=0 and satisFiyati!=0:\n",
        "  hesaplama=satisFiyati-alisFiyati\n",
        "  if hesaplama>0:\n",
        "    karSayac+=1\n",
        "    karMiktari+=(hesaplama)\n",
        "  else:\n",
        "    zararSayac+=1\n",
        "    zararMiktari+=(alisFiyati-satisFiyati)\n",
        "  alisFiyati=float(input('alis fiyatini giriniz: '))\n",
        "  satisFiyati=float(input('satis fiyatini giriniz: '))\n",
        "print('yapilan karli satis miktari: ',karSayac)\n",
        "print('yapilan zararli satis miktari: ',zararSayac)"
      ],
      "metadata": {
        "colab": {
          "base_uri": "https://localhost:8080/"
        },
        "id": "7F5lzTHbTJL-",
        "outputId": "b19eb724-bea7-4a6b-89f4-e6096df955e2"
      },
      "execution_count": null,
      "outputs": [
        {
          "output_type": "stream",
          "name": "stdout",
          "text": [
            "alis fiyatini giriniz: 100\n",
            "satis fiyatini giriniz: 200\n",
            "alis fiyatini giriniz: 100\n",
            "satis fiyatini giriniz: 50\n",
            "alis fiyatini giriniz: 0\n",
            "satis fiyatini giriniz: 100\n",
            "yapilan karli satis miktari:  1\n",
            "yapilan zararli satis miktari:  1\n"
          ]
        }
      ]
    },
    {
      "cell_type": "markdown",
      "source": [
        "Bir otoparkta ücretlendirme araç tipine ve otoparkta kalınan süreye göre ücret çarpanı ve saatlik ücreti çarpılarak hesaplanmaktadır. Ücret çarpanları ve saat ücretleri;\n",
        "\n",
        "\n",
        "*   Araç tipi, Araç kodu , Ücret Çarpanı\n",
        "*   Motosiklet, 1, 0.5\n",
        "*   Otomobil, 2, 1\n",
        "*   Minibüs, 3, 1.5\n",
        "\n",
        "Kalınan Saat, Ücret hesaplama tablosu; \n",
        "\n",
        "*   0-3 saat, 15TL\n",
        "*   4-6 saat, 25TL\n",
        "*   7-10 saat, 35 TL\n",
        "*   11 saat ve üstü, 40TL\n",
        "\n",
        "Otopark işletmecisi hergünün sonunda her araçtan kaç adet geldiğini ve toplam kaç lira kazandığını ekranda görmelidir. Ayrıca her araç tipi için ayrı ayrı otoparkta ortalama kalma süreleri verilmelidir. Günlük girdi bildirimini almak için 111 girilmelidir.\n",
        "\n",
        "\n",
        "\n",
        "\n",
        "\n"
      ],
      "metadata": {
        "id": "8_6cqbArsjHQ"
      }
    },
    {
      "cell_type": "code",
      "source": [
        "def kontrol(ucretCarpani):\n",
        "  if saat==0 and saat<=3:\n",
        "    tutar=ucretCarpani*15\n",
        "  elif saat>=4 and saat<=6:\n",
        "    tutar=ucretCarpani*25\n",
        "  elif saat>=7 and saat<=10:\n",
        "    tutar=ucretCarpani*35\n",
        "  else:\n",
        "    tutar=ucretCarpani*11\n",
        "  return tutar"
      ],
      "metadata": {
        "id": "qFX99aNoca8O"
      },
      "execution_count": null,
      "outputs": []
    },
    {
      "cell_type": "code",
      "source": [
        "def sifiraBolmeKontrol(mesaj,saat,sayac):\n",
        "  if sayac>0:\n",
        "    print(mesaj,(saat/sayac))\n",
        "  else:\n",
        "    print('Bu araç tipi hiç kullanılmamıştır')"
      ],
      "metadata": {
        "id": "fxWz4BLjk01p"
      },
      "execution_count": null,
      "outputs": []
    },
    {
      "cell_type": "code",
      "source": [
        "motorsiklet=0\n",
        "otomobil=0\n",
        "minibus=0\n",
        "motorSure=0\n",
        "otoSure=0\n",
        "minibusSure=0\n",
        "toplam=0\n",
        "aracKodu=input('arac kodu (motorsiklet:1 otomobil:2 minibüs:3): ')\n",
        "saat=int(input('kac saat kalacaksiniz: '))\n",
        "while aracKodu!='111':\n",
        "  if aracKodu=='1':\n",
        "    motorsiklet+=1\n",
        "    motorSure+=saat\n",
        "    tutar=kontrol(0.5)\n",
        "  elif aracKodu=='2':\n",
        "    otomobil+=1\n",
        "    otoSure+=saat\n",
        "    if saat==0 and saat<=3:\n",
        "      tutar=1*15\n",
        "    elif saat>=4 and saat<=6:\n",
        "      tutar=1*25\n",
        "    elif saat>=7 and saat<=10:\n",
        "      tutar=1*35\n",
        "    else:\n",
        "      tutar=1*11\n",
        "  elif aracKodu=='3':\n",
        "    minibus+=1\n",
        "    minibusSure+=saat\n",
        "    if saat==0 and saat<=3:\n",
        "      tutar=1.5*15\n",
        "    elif saat>=4 and saat<=6:\n",
        "      tutar=1.5*25\n",
        "    elif saat>=7 and saat<=10:\n",
        "      tutar=1.5*35\n",
        "    else:\n",
        "      tutar=1.5*11\n",
        "  toplam+=tutar\n",
        "  aracKodu=input('arac kodu: ')\n",
        "  saat=int(input('kac saat kalacaksiniz: '))\n",
        "\n",
        "sifiraBolmeKontrol('Motorsiklet Ortalama: ',motorSure,motorsiklet)\n",
        "sifiraBolmeKontrol('Otomobil Ortalama: ',otoSure,otomobil)\n",
        "sifiraBolmeKontrol('Minibus Ortalama: ',minibusSure,minibus)\n",
        "\n",
        "print('Motorsikler: ',motorsiklet,'Otomobil: ',otomobil,'Minibüs: ',minibus,'Toplam araç sayısı: ',(motorsiklet+otomobil+minibus))\n",
        "print('Toplam kazanılan tutar: ',toplam)\n",
        "#print('Motorsiklet Ortalama: ',(motorSure/motorsiklet),'Otomobil Ortalama: ',(otoSure/otomobil),'Minibus Ortalama: ',(minibusSure/minibus))\n",
        "\n",
        "  \n"
      ],
      "metadata": {
        "colab": {
          "base_uri": "https://localhost:8080/"
        },
        "id": "OK7w3vvpXOo3",
        "outputId": "d8e04860-553a-4a4c-b52f-d89850be55d9"
      },
      "execution_count": null,
      "outputs": [
        {
          "output_type": "stream",
          "name": "stdout",
          "text": [
            "arac kodu (motorsiklet:1 otomobil:2 minibüs:3): 1\n",
            "kac saat kalacaksiniz: 1\n",
            "arac kodu: 2\n",
            "kac saat kalacaksiniz: 1\n",
            "arac kodu: 3\n",
            "kac saat kalacaksiniz: 1\n",
            "arac kodu: 111\n",
            "kac saat kalacaksiniz: 111\n",
            "Motorsikler:  1 Otomobil:  1 Minibüs:  1 Toplam araç sayısı:  3\n",
            "Toplam kazanılan tutar:  33.0\n",
            "Motorsiklet Ortalama:  1.0 Otomobil Ortalama:  1.0 Minibus Ortalama:  1.0\n"
          ]
        }
      ]
    },
    {
      "cell_type": "markdown",
      "source": [
        "Eğer herhangi bir atama yapılmazsa default olarak fonksiyonda belirtilen değeri alır."
      ],
      "metadata": {
        "id": "4BQGjT6SmVMn"
      }
    },
    {
      "cell_type": "code",
      "source": [
        "def fonk1(mesaj, sayac=14):\n",
        "  print(sayac,' ',mesaj)\n",
        "\n",
        "for i in range(1,5):\n",
        "  fonk1('mumdur',i)\n",
        "\n",
        "fonk1('mumdur')\n",
        "fonk1(sayac=5,mesaj='mumdur')\n",
        "fonk1(5,'mumdur')\n"
      ],
      "metadata": {
        "colab": {
          "base_uri": "https://localhost:8080/"
        },
        "id": "Ys2_VNujlzfw",
        "outputId": "27f4fba6-6aef-4db8-fd89-340135408198"
      },
      "execution_count": null,
      "outputs": [
        {
          "output_type": "stream",
          "name": "stdout",
          "text": [
            "1   mumdur\n",
            "2   mumdur\n",
            "3   mumdur\n",
            "4   mumdur\n",
            "14   mumdur\n",
            "5   mumdur\n",
            "mumdur   5\n"
          ]
        }
      ]
    },
    {
      "cell_type": "markdown",
      "source": [
        "Klavyeden girilen 10 değer arasından en büyük iki değeri ekrana yazdıran fonksiyonu tasarlayınız"
      ],
      "metadata": {
        "id": "ymTAwFBKtPgN"
      }
    },
    {
      "cell_type": "code",
      "source": [
        "enBuyuk=int(input('birinci sayiyi giriniz: '))\n",
        "sonrakiEnBuyuk=0\n",
        "\n",
        "for i in range(2,11):\n",
        "  sayi=int(input(str(i)+ '.sayiyi giriniz: '))\n",
        "  if sayi>sonrakiEnBuyuk:\n",
        "    sonrakiEnBuyuk=sayi\n",
        "  if sonrakiEnBuyuk>enBuyuk:\n",
        "    x=enBuyuk\n",
        "    enBuyuk=sonrakiEnBuyuk\n",
        "    sonrakiEnBuyuk=x\n",
        "\n",
        "print('En büyük sayi: ',enBuyuk)\n",
        "print('İkinci en büyük sayi: ',sonrakiEnBuyuk)\n",
        "  \n"
      ],
      "metadata": {
        "colab": {
          "base_uri": "https://localhost:8080/"
        },
        "id": "tQiJKvjjnbMZ",
        "outputId": "9837e042-94a1-4e01-ba4d-37400d659dde"
      },
      "execution_count": null,
      "outputs": [
        {
          "output_type": "stream",
          "name": "stdout",
          "text": [
            "birinci sayiyi giriniz: 1\n",
            "2.sayiyi giriniz: 5\n",
            "3.sayiyi giriniz: 6\n",
            "4.sayiyi giriniz: 9\n",
            "5.sayiyi giriniz: 8\n",
            "6.sayiyi giriniz: 7\n",
            "7.sayiyi giriniz: 15\n",
            "8.sayiyi giriniz: 12\n",
            "9.sayiyi giriniz: 20\n",
            "10.sayiyi giriniz: 25\n",
            "En büyük sayi:  25\n",
            "İkinci en büyük sayi:  20\n"
          ]
        }
      ]
    },
    {
      "cell_type": "markdown",
      "source": [
        "4913 ilginç bir sayıdır. Şöyleki  4913= (4+9+1+3)^3. Bu özelliğe sahip 4 basamaklı bir sayı daha vardır. Bu sayıyı bulan fonksiyonu hazırlayınız"
      ],
      "metadata": {
        "id": "WXOIF-zNtguY"
      }
    },
    {
      "cell_type": "code",
      "source": [
        "def sayiBulma():\n",
        "  for i in range(1000,10000):\n",
        "    birler=i%10\n",
        "    onlar=(i%100)//10\n",
        "    yuzler=(i//100)%10\n",
        "    binler=i//1000\n",
        "    if i==(birler+onlar+yuzler+binler)**3:\n",
        "      print(i)\n",
        "    #print(birler,onlar,yuzler,binler)\n",
        "sayiBulma()\n",
        "\n"
      ],
      "metadata": {
        "colab": {
          "base_uri": "https://localhost:8080/"
        },
        "id": "aEFt6jRcrPwH",
        "outputId": "eb993e4a-9e7d-4b8e-c3aa-3542af30210a"
      },
      "execution_count": null,
      "outputs": [
        {
          "output_type": "stream",
          "name": "stdout",
          "text": [
            "4913\n",
            "5832\n"
          ]
        }
      ]
    },
    {
      "cell_type": "markdown",
      "source": [
        "40585 sayısı daha ilginç bir sayıdır. Şöyleki basamaklarınındaki rakamların faktöriyellerinin toplamı kendisine eşittir. 40585=4!+0!+5!+8!+5! bu özelliğe sahip 3 basamaklı bir sayı daha vardır. Bu sayıyı bulan fonksiyonu tasarlayınız."
      ],
      "metadata": {
        "id": "rX237AlDtqpy"
      }
    },
    {
      "cell_type": "code",
      "source": [
        "def faktoriyelHesapla(sayi):\n",
        "  faktoriyel=1\n",
        "  for i in range(1,sayi+1):\n",
        "    faktoriyel*=i\n",
        "  return faktoriyel\n"
      ],
      "metadata": {
        "id": "qKN-bx2wvSQp"
      },
      "execution_count": null,
      "outputs": []
    },
    {
      "cell_type": "code",
      "source": [
        "for i in range(100,1000):\n",
        "  birler=i%10\n",
        "  onlar=(i%100)//10\n",
        "  yuzler=(i//100)%10\n",
        "  toplam=faktoriyelHesapla(birler)+faktoriyelHesapla(onlar)+faktoriyelHesapla(yuzler)\n",
        "  if toplam==i:\n",
        "    print(i)\n",
        "\n",
        "  "
      ],
      "metadata": {
        "colab": {
          "base_uri": "https://localhost:8080/"
        },
        "id": "oNunFzsttJV6",
        "outputId": "02cfc8f8-2bc4-45ec-c910-a0de3ea24c47"
      },
      "execution_count": null,
      "outputs": [
        {
          "output_type": "stream",
          "name": "stdout",
          "text": [
            "145\n"
          ]
        }
      ]
    },
    {
      "cell_type": "markdown",
      "source": [
        "Hangi 4 basamaklı sayının rakamları kendi kuvvetlerine gönderilip toplanırsa yine aynı sayıyı verir? \n",
        "\n",
        "\n",
        "> örn sayi abcd olsun, abcd=a^a+ b^b+ c^c+ d^d\n",
        "\n"
      ],
      "metadata": {
        "id": "kaBB9TkGtwvJ"
      }
    },
    {
      "cell_type": "code",
      "source": [
        "for i in range(1000,100000):\n",
        "    birler=i%10\n",
        "    onlar=(i%100)//10\n",
        "    yuzler=(i//100)%10\n",
        "    binler=i//1000\n",
        "    toplam=(birler**birler)+(onlar**onlar)+(yuzler**yuzler)+(binler**binler)\n",
        "    if toplam==i:\n",
        "      print(i)"
      ],
      "metadata": {
        "colab": {
          "base_uri": "https://localhost:8080/"
        },
        "id": "v7LpNqb6wtog",
        "outputId": "28f2022b-b79d-4397-929f-c8b7af1ea582"
      },
      "execution_count": null,
      "outputs": [
        {
          "output_type": "stream",
          "name": "stdout",
          "text": [
            "3435\n"
          ]
        }
      ]
    }
  ]
}