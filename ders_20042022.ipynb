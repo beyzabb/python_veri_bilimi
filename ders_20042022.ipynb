{
  "nbformat": 4,
  "nbformat_minor": 0,
  "metadata": {
    "colab": {
      "name": "ders_20042022.ipynb",
      "provenance": [],
      "collapsed_sections": []
    },
    "kernelspec": {
      "name": "python3",
      "display_name": "Python 3"
    },
    "language_info": {
      "name": "python"
    }
  },
  "cells": [
    {
      "cell_type": "markdown",
      "source": [
        "+ expandtabs fonksiyonu kullanımı: string.expandtabs(tabsize=8)\n",
        "+ expandtabs fonksiyonu boşluk bırakılmasını sağlar"
      ],
      "metadata": {
        "id": "Bp1MLNrnRhGz"
      }
    },
    {
      "cell_type": "code",
      "source": [
        "metin=\"Merve\\tGüllü\\t248575\\thfa\"\n",
        "print(metin.expandtabs())\n",
        "print(metin.expandtabs(12))\n",
        "print(metin.expandtabs(2))"
      ],
      "metadata": {
        "colab": {
          "base_uri": "https://localhost:8080/"
        },
        "id": "MBD_oziURgZ_",
        "outputId": "dbd8ba52-9405-43a0-ef33-6da831f71ffc"
      },
      "execution_count": 1,
      "outputs": [
        {
          "output_type": "stream",
          "name": "stdout",
          "text": [
            "Merve   Güllü   248575  hfa\n",
            "Merve       Güllü       248575      hfa\n",
            "Merve Güllü 248575  hfa\n"
          ]
        }
      ]
    },
    {
      "cell_type": "markdown",
      "source": [
        "+ find fonksiyonu kullanımı: string.find(value, start=0, end=len(string))\n",
        "\n",
        "+ rfind fonksiyonu kullanımı: string.rfind(value, start=0, end=len(string))"
      ],
      "metadata": {
        "id": "oq-TnKB-RrXg"
      }
    },
    {
      "cell_type": "code",
      "source": [
        "print(metin.find('e'))\n",
        "print(metin.rfind('e'))\n",
        "print(metin.find('5', len(metin)-10,len(metin)))"
      ],
      "metadata": {
        "colab": {
          "base_uri": "https://localhost:8080/"
        },
        "id": "y5Poe9zpRstK",
        "outputId": "5c98d6a6-38c6-4eca-eda9-d09338d005b5"
      },
      "execution_count": 2,
      "outputs": [
        {
          "output_type": "stream",
          "name": "stdout",
          "text": [
            "1\n",
            "4\n",
            "15\n"
          ]
        }
      ]
    },
    {
      "cell_type": "markdown",
      "source": [
        "+ index fonksiyonu kullanımı: string.index(value, start=0, end=len(string))"
      ],
      "metadata": {
        "id": "a_AqYsXqR4hs"
      }
    },
    {
      "cell_type": "code",
      "source": [
        "print(metin.index('e'))\n",
        "\n",
        "#print(metin.index('q'))\n",
        "print(metin.find('q'))"
      ],
      "metadata": {
        "id": "b0D44NndR5lS"
      },
      "execution_count": null,
      "outputs": []
    },
    {
      "cell_type": "markdown",
      "source": [
        "+ find() fonksiyonu metin içinde kaçıncı indekste istenilen değer olduğunu bulur"
      ],
      "metadata": {
        "id": "o7h4yOTRlt1E"
      }
    },
    {
      "cell_type": "code",
      "execution_count": null,
      "metadata": {
        "colab": {
          "base_uri": "https://localhost:8080/"
        },
        "id": "KFkmu5_ylL0q",
        "outputId": "18c8fb28-1cf8-4887-8721-96427e313fb9"
      },
      "outputs": [
        {
          "output_type": "stream",
          "name": "stdout",
          "text": [
            "4\n"
          ]
        }
      ],
      "source": [
        "txt='merhaba'\n",
        "print(txt.find('a'))"
      ]
    },
    {
      "cell_type": "markdown",
      "source": [
        "+ isalnum() metnin tamamen alfanümerik karakterlerden oluşup oluşmadığını kontrol eder"
      ],
      "metadata": {
        "id": "GutbI_f4mmFs"
      }
    },
    {
      "cell_type": "code",
      "source": [
        "a='2145'\n",
        "b='dfhbhjbj!'\n",
        "print(a.isalnum())\n",
        "print(b.isalnum())"
      ],
      "metadata": {
        "colab": {
          "base_uri": "https://localhost:8080/"
        },
        "id": "ZOPxOxsjl197",
        "outputId": "9b309401-f7a8-45d4-c074-dacdef90fe93"
      },
      "execution_count": null,
      "outputs": [
        {
          "output_type": "stream",
          "name": "stdout",
          "text": [
            "True\n",
            "False\n"
          ]
        }
      ]
    },
    {
      "cell_type": "markdown",
      "source": [
        "+ isalpha() metnin tamamen alfabede bulunan karakterlerden oluşup oluşmadığını kontrol eder"
      ],
      "metadata": {
        "id": "FfWob0T_nECj"
      }
    },
    {
      "cell_type": "code",
      "source": [
        "a='hgj2145'\n",
        "b='dfhbhjbj'\n",
        "print(a.isalpha())\n",
        "print(b.isalpha())"
      ],
      "metadata": {
        "colab": {
          "base_uri": "https://localhost:8080/"
        },
        "id": "YIfkXRaZm1O7",
        "outputId": "befd1d81-e78f-4775-fa6f-44d092fa8f9c"
      },
      "execution_count": null,
      "outputs": [
        {
          "output_type": "stream",
          "name": "stdout",
          "text": [
            "False\n",
            "True\n"
          ]
        }
      ]
    },
    {
      "cell_type": "markdown",
      "source": [
        "+ zfill() metni istenilen karakter boyutuna başına 0 ekleyerek tamamlar"
      ],
      "metadata": {
        "id": "Suj8EM6GoL5L"
      }
    },
    {
      "cell_type": "code",
      "source": [
        "print(a.zfill(10))"
      ],
      "metadata": {
        "colab": {
          "base_uri": "https://localhost:8080/"
        },
        "id": "gwTHYCAUnsV7",
        "outputId": "b6a0773d-00f1-44ce-b211-87455a48f1b8"
      },
      "execution_count": null,
      "outputs": [
        {
          "output_type": "stream",
          "name": "stdout",
          "text": [
            "000hgj2145\n"
          ]
        }
      ]
    },
    {
      "cell_type": "code",
      "source": [
        "txt1='Sisteme hoşgeldin {name}, Ben {yas} yaşındayım'.format(name='Faruk',yas=36)\n",
        "txt2='Sisteme hoşgeldin {}, Ben {} yaşındayım'.format('Faruk',36)\n",
        "txt3='Sisteme hoşgeldin {0}, Ben {1} yaşındayım'.format('Faruk',36)\n",
        "print(txt1)\n",
        "print(txt2)\n",
        "print(txt3)"
      ],
      "metadata": {
        "colab": {
          "base_uri": "https://localhost:8080/"
        },
        "id": "hdpI-jlToW4o",
        "outputId": "245407be-14e0-4f55-94bf-64ff53dd62cf"
      },
      "execution_count": null,
      "outputs": [
        {
          "output_type": "stream",
          "name": "stdout",
          "text": [
            "Sisteme hoşgeldin Faruk, Ben 36 yaşındayım\n",
            "Sisteme hoşgeldin Faruk, Ben 36 yaşındayım\n",
            "Sisteme hoşgeldin Faruk, Ben 36 yaşındayım\n"
          ]
        }
      ]
    },
    {
      "cell_type": "code",
      "source": [
        "def hesapla(cumle):\n",
        "  parcalanmis=cumle.split()\n",
        "  print(parcalanmis)\n",
        "  return len(parcalanmis)\n",
        "\n",
        "cumle=input('Bir cümle yazınız: ')\n",
        "sonuc=hesapla(cumle)\n",
        "print(sonuc)\n"
      ],
      "metadata": {
        "colab": {
          "base_uri": "https://localhost:8080/"
        },
        "id": "tJvqWVH4o88k",
        "outputId": "b9c6b91e-2357-40b0-d3f2-2c8329c01ba7"
      },
      "execution_count": null,
      "outputs": [
        {
          "output_type": "stream",
          "name": "stdout",
          "text": [
            "Bir cümle yazınız: merhaba ben yeni üye\n",
            "['merhaba', 'ben', 'yeni', 'üye']\n",
            "4\n"
          ]
        }
      ]
    },
    {
      "cell_type": "code",
      "source": [
        "print(len('bu bir cümledir'))\n",
        "\n",
        "parcalanmis='bu bir cümledir'.split()\n",
        "len(parcalanmis)"
      ],
      "metadata": {
        "colab": {
          "base_uri": "https://localhost:8080/"
        },
        "id": "qP-4QTcDqWJL",
        "outputId": "6ac73e63-9535-45ee-88b5-8b81b11fb832"
      },
      "execution_count": null,
      "outputs": [
        {
          "output_type": "stream",
          "name": "stdout",
          "text": [
            "15\n"
          ]
        },
        {
          "output_type": "execute_result",
          "data": {
            "text/plain": [
              "3"
            ]
          },
          "metadata": {},
          "execution_count": 15
        }
      ]
    },
    {
      "cell_type": "code",
      "source": [
        "for i in range(1,10,2):\n",
        "  print(i)"
      ],
      "metadata": {
        "colab": {
          "base_uri": "https://localhost:8080/"
        },
        "id": "rWjj7DX5q2eL",
        "outputId": "3b195b16-8289-467c-9e9b-371bba3ff736"
      },
      "execution_count": null,
      "outputs": [
        {
          "output_type": "stream",
          "name": "stdout",
          "text": [
            "1\n",
            "3\n",
            "5\n",
            "7\n",
            "9\n"
          ]
        }
      ]
    },
    {
      "cell_type": "code",
      "source": [
        "sayi=12.82345\n",
        "x=str(sayi)\n",
        "type(x)"
      ],
      "metadata": {
        "colab": {
          "base_uri": "https://localhost:8080/"
        },
        "id": "PfRg-hBjrm8x",
        "outputId": "33a516f1-8e75-4b16-8178-64985c8b9a17"
      },
      "execution_count": null,
      "outputs": [
        {
          "output_type": "execute_result",
          "data": {
            "text/plain": [
              "str"
            ]
          },
          "metadata": {},
          "execution_count": 33
        }
      ]
    },
    {
      "cell_type": "code",
      "source": [
        "print(round(sayi))\n",
        "print(round(sayi,3))"
      ],
      "metadata": {
        "colab": {
          "base_uri": "https://localhost:8080/"
        },
        "id": "0seJC-N2r_Hq",
        "outputId": "52ffba26-b6c7-4228-99fd-4991f6c5d8bb"
      },
      "execution_count": null,
      "outputs": [
        {
          "output_type": "stream",
          "name": "stdout",
          "text": [
            "13\n",
            "12.823\n"
          ]
        }
      ]
    },
    {
      "cell_type": "markdown",
      "source": [
        "Ekrana girilen kelimenin büyük ünlü uyumuna uyup uymadığını kontrol eden program"
      ],
      "metadata": {
        "id": "LeNMQIzFTVVR"
      }
    },
    {
      "cell_type": "code",
      "source": [
        "def kontrol(kelime):\n",
        "  buyuk='aıou'\n",
        "  kucuk='eiöü'\n",
        "  b=False\n",
        "  a=False\n",
        "  for harf in buyuk:\n",
        "    if kelime.count(harf)!=0:\n",
        "      a=True\n",
        "    \n",
        "  for harf in kucuk:\n",
        "    if kelime.count(harf)!=0:\n",
        "      b=True\n",
        "\n",
        "  if a==True and b== False:\n",
        "    print('Büyük ünlü uyumuna uyuyor')\n",
        "  elif a==False and b== True:\n",
        "    print('Büyük ünlü uyumuna uyuyor')\n",
        "  else:\n",
        "    print('Büyük ünlü uyumuna uymuyor')\n",
        "\n",
        "kelime=input('Bir kelime giriniz: ')\n",
        "kontrol(kelime)\n",
        "\n"
      ],
      "metadata": {
        "colab": {
          "base_uri": "https://localhost:8080/"
        },
        "id": "mj1ZIotVsXt7",
        "outputId": "7cc54c8b-b61e-453e-f960-b7d4af895240"
      },
      "execution_count": 3,
      "outputs": [
        {
          "output_type": "stream",
          "name": "stdout",
          "text": [
            "Bir kelime giriniz: mısır\n",
            "Büyük ünlü uyumuna uyuyor\n"
          ]
        }
      ]
    },
    {
      "cell_type": "code",
      "source": [
        "def bsuUyumu(kelime):\n",
        "  kalin='aıou'\n",
        "  ince='eiöü'\n",
        "  kalinSayisi=0\n",
        "  for i in range(0,len(kalin)):\n",
        "    kalinSayisi+=kelime.count(kalin[i])\n",
        "  if kalinSayisi==0:\n",
        "    print('İnce sesli harfler vardır. BSU uyar.')\n",
        "  else:\n",
        "    inceSayisi=0\n",
        "    for i in range(0,len(ince)):\n",
        "      inceSayisi+=kelime.count(ince[i])\n",
        "    if inceSayisi!=0:\n",
        "      print('BSU uymaz')\n",
        "    else:\n",
        "      print('Kalın sesli harfler vardır. BSU uyar.')\n",
        "\n",
        "kelime=input('Bir kelime giriniz: ')\n",
        "bsuUyumu(kelime)"
      ],
      "metadata": {
        "colab": {
          "base_uri": "https://localhost:8080/"
        },
        "id": "eRio_XbywIJ6",
        "outputId": "d9bbf419-d8cb-484e-f09e-7be2fe185742"
      },
      "execution_count": 4,
      "outputs": [
        {
          "output_type": "stream",
          "name": "stdout",
          "text": [
            "Bir kelime giriniz: kapı\n",
            "Kalın sesli harfler vardır. BSU uyar.\n"
          ]
        }
      ]
    }
  ]
}